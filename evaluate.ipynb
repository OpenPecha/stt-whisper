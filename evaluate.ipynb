{
 "cells": [
  {
   "cell_type": "code",
   "execution_count": null,
   "metadata": {},
   "outputs": [],
   "source": [
    "import pandas as pd"
   ]
  },
  {
   "cell_type": "code",
   "execution_count": null,
   "metadata": {},
   "outputs": [],
   "source": [
    "test_path = \"/home/monlamai/Documents/GitHub/combining-dataset/550-train.tsv\"\n",
    "df = pd.read_csv(test_path, sep='\\t')"
   ]
  },
  {
   "cell_type": "code",
   "execution_count": null,
   "metadata": {},
   "outputs": [],
   "source": [
    "df.head()"
   ]
  },
  {
   "cell_type": "code",
   "execution_count": null,
   "metadata": {},
   "outputs": [],
   "source": [
    "df = df[df['dept'] == 'STT_TT']\n",
    "df['len'] = df['uni'].apply(lambda x: len(x))"
   ]
  },
  {
   "cell_type": "code",
   "execution_count": null,
   "metadata": {},
   "outputs": [],
   "source": [
    "df.head()"
   ]
  },
  {
   "cell_type": "code",
   "execution_count": null,
   "metadata": {},
   "outputs": [],
   "source": [
    "df.sort_values(by=['len'], inplace=True, ascending=False, ignore_index=True)"
   ]
  },
  {
   "cell_type": "code",
   "execution_count": null,
   "metadata": {},
   "outputs": [],
   "source": [
    "# 60005\n",
    "# 70021\n",
    "# i = len(df) - 70021\n",
    "# i = 2222\n",
    "i = 2431\n",
    "df.loc[i, 'url'], df.loc[i, 'uni']"
   ]
  },
  {
   "cell_type": "code",
   "execution_count": null,
   "metadata": {},
   "outputs": [],
   "source": [
    "from transformers import pipeline\n",
    "import pyewts\n",
    "generator = pipeline(model=\"openpecha/wav2vec2_run8\")\n",
    "# spsither/whipser-small-r2\n",
    "# generator = pipeline(model=\"spsither/whipser-small-r2\")\n",
    "\n",
    "opt = generator(df.loc[i, 'url'])\n",
    "inf = opt['text']\n",
    "print(inf)\n",
    "\n",
    "generator = pipeline(model=\"TenzinGayche/whisper-small-3\")\n",
    "# generator = pipeline(model=\"spsither/whipser-small-r2\")\n",
    "opt = generator(df.loc[i, 'url'])\n",
    "inf = opt['text']\n",
    "\n",
    "converter = pyewts.pyewts()\n",
    "print(converter.toUnicode(inf))\n",
    "\n",
    "generator = pipeline(model=\"spsither/whipser-small-r2\")\n",
    "opt = generator(df.loc[i, 'url'])\n",
    "inf = opt['text']\n",
    "\n",
    "converter = pyewts.pyewts()\n",
    "print(converter.toUnicode(inf))"
   ]
  },
  {
   "cell_type": "code",
   "execution_count": null,
   "metadata": {},
   "outputs": [],
   "source": [
    "from transformers import WhisperProcessor, WhisperForConditionalGeneration\n",
    "from datasets import Audio, load_dataset\n",
    "\n",
    "# load model and processor\n",
    "processor = WhisperProcessor.from_pretrained(\"spsither/whipser-small-r2\")\n",
    "model = WhisperForConditionalGeneration.from_pretrained(\"spsither/whipser-small-r2\")\n",
    "forced_decoder_ids = processor.get_decoder_prompt_ids(language=\"tibetan\", task=\"transcribe\")\n",
    "\n",
    "print(forced_decoder_ids)"
   ]
  },
  {
   "cell_type": "code",
   "execution_count": null,
   "metadata": {},
   "outputs": [],
   "source": [
    "from datasets import Dataset\n",
    "\n",
    "ds = Dataset.from_pandas(df)\n",
    "ds = ds.cast_column(\"url\", Audio(sampling_rate=16_000))\n",
    "input_speech = next(iter(ds))[\"url\"]\n",
    "\n",
    "print(input_speech[\"array\"], input_speech[\"sampling_rate\"])"
   ]
  },
  {
   "cell_type": "code",
   "execution_count": null,
   "metadata": {},
   "outputs": [],
   "source": [
    "from transformers import WhisperProcessor, WhisperForConditionalGeneration\n",
    "from datasets import Audio, load_dataset\n",
    "\n",
    "# load model and processor\n",
    "processor = WhisperProcessor.from_pretrained(\"spsither/whipser-small-r2\")\n",
    "model = WhisperForConditionalGeneration.from_pretrained(\"spsither/whipser-small-r2\")\n",
    "forced_decoder_ids = processor.get_decoder_prompt_ids(language=\"tibetan\", task=\"transcribe\")\n",
    "\n",
    "model.generation_config.no_repeat_ngram_size = 2\n",
    "\n",
    "# model.generation_config.num_beams = 1 # default\n",
    "model.generation_config.num_beams = 3\n",
    "model.generation_config.exponential_decay_length_penalty = 1\n",
    "# load streaming dataset and read first audio sample\n",
    "from datasets import Dataset\n",
    "\n",
    "ds = Dataset.from_pandas(df)\n",
    "ds = ds.cast_column(\"url\", Audio(sampling_rate=16_000))\n",
    "# input_speech = next(iter(ds))[\"url\"]\n",
    "imput_speech = ds[i][\"url\"]\n",
    "\n",
    "input_features = processor(input_speech[\"array\"], sampling_rate=input_speech[\"sampling_rate\"], return_tensors=\"pt\").input_features\n",
    "\n",
    "# generate token ids\n",
    "predicted_ids = model.generate(input_features, forced_decoder_ids=forced_decoder_ids)\n",
    "# decode token ids to text\n",
    "# transcription = processor.batch_decode(predicted_ids)\n",
    "# print(transcription)\n",
    "\n",
    "transcription = processor.batch_decode(predicted_ids, skip_special_tokens=True)\n",
    "converter = pyewts.pyewts()\n",
    "print(converter.toUnicode(transcription[0]))"
   ]
  },
  {
   "cell_type": "code",
   "execution_count": null,
   "metadata": {},
   "outputs": [],
   "source": [
    "# import os\n",
    "from transformers import pipeline\n",
    "from datasets import Dataset\n",
    "\n",
    "generator = pipeline(model=\"openpecha/wav2vec2_run8\", device=\"cuda:0\")\n",
    "\n",
    "\n",
    "# opt = generator(df.loc[0, 'url'])\n",
    "# inf = opt['text']\n",
    "# print(inf)\n",
    "\n",
    "dataset = Dataset.from_pandas(df)\n",
    "\n",
    "def generate(batch):\n",
    "    urls = batch[\"url\"]\n",
    "    generated_texts = generator(urls)  # This should process all URLs in the batch at once\n",
    "    # Extracting the 'text' field from each generated output and assigning it back to the batch\n",
    "    batch['inf'] = [item['text'] for item in generated_texts]\n",
    "    return batch\n",
    "\n",
    "# df['inf']  = df.apply(lambda row: generator(row['url'])['text'], axis=1)\n",
    "# updated_dataset = dataset.map(generate, batched=True, batch_size=8)"
   ]
  },
  {
   "cell_type": "code",
   "execution_count": null,
   "metadata": {},
   "outputs": [],
   "source": [
    "df_out = updated_dataset.to_pandas()"
   ]
  },
  {
   "cell_type": "code",
   "execution_count": null,
   "metadata": {},
   "outputs": [],
   "source": [
    "# import pyewts\n",
    "\n",
    "# converter = pyewts.pyewts()\n",
    "\n",
    "# df_out['inf_uni'] = df_out['inf'].map(lambda x : converter.toUnicode(x))"
   ]
  },
  {
   "cell_type": "code",
   "execution_count": null,
   "metadata": {},
   "outputs": [],
   "source": [
    "from evaluate import load\n",
    "\n",
    "cer_metric = load(\"cer\")"
   ]
  },
  {
   "cell_type": "code",
   "execution_count": null,
   "metadata": {},
   "outputs": [],
   "source": [
    "df_out\n",
    "\n",
    "cer = cer_metric.compute(references=[df_out.loc[0, 'uni']], predictions=[df_out.loc[0, 'inf']])\n",
    "\n",
    "print(cer)"
   ]
  },
  {
   "cell_type": "code",
   "execution_count": null,
   "metadata": {},
   "outputs": [],
   "source": [
    "df_out['cer'] = df_out.apply(lambda row: min(cer_metric.compute(references=[df_out.loc[0, 'uni']], predictions=[df_out.loc[0, 'inf']]), 1), axis=1)"
   ]
  },
  {
   "cell_type": "code",
   "execution_count": null,
   "metadata": {},
   "outputs": [],
   "source": [
    "mean_cer = df_out['cer'].mean()"
   ]
  },
  {
   "cell_type": "code",
   "execution_count": null,
   "metadata": {},
   "outputs": [],
   "source": [
    "mean_cer"
   ]
  },
  {
   "cell_type": "code",
   "execution_count": null,
   "metadata": {},
   "outputs": [],
   "source": [
    "mean_cer * 100"
   ]
  },
  {
   "cell_type": "code",
   "execution_count": null,
   "metadata": {},
   "outputs": [],
   "source": [
    "df_out.head()"
   ]
  },
  {
   "cell_type": "code",
   "execution_count": null,
   "metadata": {},
   "outputs": [],
   "source": [
    "\n",
    "df_out.to_csv('test_wav2vec2.tsv', sep='\\t', index=False)"
   ]
  },
  {
   "cell_type": "code",
   "execution_count": null,
   "metadata": {},
   "outputs": [],
   "source": []
  }
 ],
 "metadata": {
  "kernelspec": {
   "display_name": ".env",
   "language": "python",
   "name": "python3"
  },
  "language_info": {
   "codemirror_mode": {
    "name": "ipython",
    "version": 3
   },
   "file_extension": ".py",
   "mimetype": "text/x-python",
   "name": "python",
   "nbconvert_exporter": "python",
   "pygments_lexer": "ipython3",
   "version": "3.10.12"
  }
 },
 "nbformat": 4,
 "nbformat_minor": 2
}
