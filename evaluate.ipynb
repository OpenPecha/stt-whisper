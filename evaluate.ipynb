{
 "cells": [
  {
   "cell_type": "code",
   "execution_count": null,
   "metadata": {},
   "outputs": [],
   "source": [
    "import pandas as pd"
   ]
  },
  {
   "cell_type": "code",
   "execution_count": null,
   "metadata": {},
   "outputs": [],
   "source": [
    "test_path = \"/home/monlamai/Documents/GitHub/combining-dataset/550-train.tsv\"\n",
    "df = pd.read_csv(test_path, sep='\\t')"
   ]
  },
  {
   "cell_type": "code",
   "execution_count": null,
   "metadata": {},
   "outputs": [],
   "source": [
    "df.head()"
   ]
  },
  {
   "cell_type": "code",
   "execution_count": null,
   "metadata": {},
   "outputs": [],
   "source": [
    "df = df[df['dept'] == 'STT_TT']\n",
    "df['len'] = df['uni'].apply(lambda x: len(x))"
   ]
  },
  {
   "cell_type": "code",
   "execution_count": null,
   "metadata": {},
   "outputs": [],
   "source": [
    "df.head()"
   ]
  },
  {
   "cell_type": "code",
   "execution_count": null,
   "metadata": {},
   "outputs": [],
   "source": [
    "df.sort_values(by=['len'], inplace=True, ascending=False, ignore_index=True)"
   ]
  },
  {
   "cell_type": "code",
   "execution_count": 117,
   "metadata": {},
   "outputs": [
    {
     "data": {
      "text/plain": [
       "('https://d38pmlk0v88drf.cloudfront.net/wav/STT_TT00015_05751.750-05752.550.wav',\n",
       " 'བསྔགས་པ་ཕྱོགས་བཞིར་ ')"
      ]
     },
     "execution_count": 117,
     "metadata": {},
     "output_type": "execute_result"
    }
   ],
   "source": [
    "# 60005\n",
    "# 70021\n",
    "i = len(df) - 70021\n",
    "df.loc[i, 'url'], df.loc[i, 'uni']"
   ]
  },
  {
   "cell_type": "code",
   "execution_count": 118,
   "metadata": {},
   "outputs": [
    {
     "name": "stdout",
     "output_type": "stream",
     "text": [
      "བསྔགས་པ་མཆོག་ཞིར་\n",
      "སྔགས་པ་ཕྱོགས་བཞིར་\n"
     ]
    }
   ],
   "source": [
    "from transformers import pipeline\n",
    "import pyewts\n",
    "generator = pipeline(model=\"openpecha/wav2vec2_run8\")\n",
    "\n",
    "opt = generator(df.loc[i, 'url'])\n",
    "inf = opt['text']\n",
    "print(inf)\n",
    "\n",
    "generator = pipeline(model=\"TenzinGayche/whisper-small-3\")\n",
    "opt = generator(df.loc[i, 'url'])\n",
    "inf = opt['text']\n",
    "\n",
    "converter = pyewts.pyewts()\n",
    "print(converter.toUnicode(inf))"
   ]
  },
  {
   "cell_type": "code",
   "execution_count": null,
   "metadata": {},
   "outputs": [],
   "source": [
    "# import os\n",
    "from transformers import pipeline\n",
    "from datasets import Dataset\n",
    "\n",
    "generator = pipeline(model=\"openpecha/wav2vec2_run8\", device=\"cuda:0\")\n",
    "\n",
    "\n",
    "# opt = generator(df.loc[0, 'url'])\n",
    "# inf = opt['text']\n",
    "# print(inf)\n",
    "\n",
    "dataset = Dataset.from_pandas(df)\n",
    "\n",
    "def generate(batch):\n",
    "    urls = batch[\"url\"]\n",
    "    generated_texts = generator(urls)  # This should process all URLs in the batch at once\n",
    "    # Extracting the 'text' field from each generated output and assigning it back to the batch\n",
    "    batch['inf'] = [item['text'] for item in generated_texts]\n",
    "    return batch\n",
    "\n",
    "# df['inf']  = df.apply(lambda row: generator(row['url'])['text'], axis=1)\n",
    "# updated_dataset = dataset.map(generate, batched=True, batch_size=8)"
   ]
  },
  {
   "cell_type": "code",
   "execution_count": null,
   "metadata": {},
   "outputs": [],
   "source": [
    "df_out = updated_dataset.to_pandas()"
   ]
  },
  {
   "cell_type": "code",
   "execution_count": null,
   "metadata": {},
   "outputs": [],
   "source": [
    "# import pyewts\n",
    "\n",
    "# converter = pyewts.pyewts()\n",
    "\n",
    "# df_out['inf_uni'] = df_out['inf'].map(lambda x : converter.toUnicode(x))"
   ]
  },
  {
   "cell_type": "code",
   "execution_count": null,
   "metadata": {},
   "outputs": [],
   "source": [
    "from evaluate import load\n",
    "\n",
    "cer_metric = load(\"cer\")"
   ]
  },
  {
   "cell_type": "code",
   "execution_count": null,
   "metadata": {},
   "outputs": [],
   "source": [
    "df_out\n",
    "\n",
    "cer = cer_metric.compute(references=[df_out.loc[0, 'uni']], predictions=[df_out.loc[0, 'inf']])\n",
    "\n",
    "print(cer)"
   ]
  },
  {
   "cell_type": "code",
   "execution_count": null,
   "metadata": {},
   "outputs": [],
   "source": [
    "df_out['cer'] = df_out.apply(lambda row: min(cer_metric.compute(references=[df_out.loc[0, 'uni']], predictions=[df_out.loc[0, 'inf']]), 1), axis=1)"
   ]
  },
  {
   "cell_type": "code",
   "execution_count": null,
   "metadata": {},
   "outputs": [],
   "source": [
    "mean_cer = df_out['cer'].mean()"
   ]
  },
  {
   "cell_type": "code",
   "execution_count": null,
   "metadata": {},
   "outputs": [],
   "source": [
    "mean_cer"
   ]
  },
  {
   "cell_type": "code",
   "execution_count": null,
   "metadata": {},
   "outputs": [],
   "source": [
    "mean_cer * 100"
   ]
  },
  {
   "cell_type": "code",
   "execution_count": null,
   "metadata": {},
   "outputs": [],
   "source": [
    "df_out.head()"
   ]
  },
  {
   "cell_type": "code",
   "execution_count": null,
   "metadata": {},
   "outputs": [],
   "source": [
    "\n",
    "df_out.to_csv('test_wav2vec2.tsv', sep='\\t', index=False)"
   ]
  },
  {
   "cell_type": "code",
   "execution_count": null,
   "metadata": {},
   "outputs": [],
   "source": []
  }
 ],
 "metadata": {
  "kernelspec": {
   "display_name": ".env",
   "language": "python",
   "name": "python3"
  },
  "language_info": {
   "codemirror_mode": {
    "name": "ipython",
    "version": 3
   },
   "file_extension": ".py",
   "mimetype": "text/x-python",
   "name": "python",
   "nbconvert_exporter": "python",
   "pygments_lexer": "ipython3",
   "version": "3.10.12"
  }
 },
 "nbformat": 4,
 "nbformat_minor": 2
}
