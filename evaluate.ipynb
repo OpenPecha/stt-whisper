{
 "cells": [
  {
   "cell_type": "markdown",
   "metadata": {},
   "source": [
    "## Evaluation of STT models\n",
    "\n",
    "Load the benchmark dataset from huggingface"
   ]
  },
  {
   "cell_type": "code",
   "execution_count": 11,
   "metadata": {},
   "outputs": [],
   "source": [
    "from datasets import load_dataset\n",
    "import pandas as pd\n",
    "dataset = load_dataset(\"openpecha/tibetan-voice-benchmark\")\n",
    "df = pd.DataFrame(dataset['test'])"
   ]
  },
  {
   "cell_type": "code",
   "execution_count": 13,
   "metadata": {},
   "outputs": [
    {
     "data": {
      "text/html": [
       "<div>\n",
       "<style scoped>\n",
       "    .dataframe tbody tr th:only-of-type {\n",
       "        vertical-align: middle;\n",
       "    }\n",
       "\n",
       "    .dataframe tbody tr th {\n",
       "        vertical-align: top;\n",
       "    }\n",
       "\n",
       "    .dataframe thead th {\n",
       "        text-align: right;\n",
       "    }\n",
       "</style>\n",
       "<table border=\"1\" class=\"dataframe\">\n",
       "  <thead>\n",
       "    <tr style=\"text-align: right;\">\n",
       "      <th></th>\n",
       "      <th>file_name</th>\n",
       "      <th>uni</th>\n",
       "      <th>wylie</th>\n",
       "      <th>url</th>\n",
       "      <th>dept</th>\n",
       "    </tr>\n",
       "  </thead>\n",
       "  <tbody>\n",
       "    <tr>\n",
       "      <th>0</th>\n",
       "      <td>STT_MV0105_0153_1036457_to_1046241.wav</td>\n",
       "      <td>ཁོང་གིས་སྐུ་ངོ་རྨུང་ལགས་རྩ་ནས་གྱོད་གཞིའི་ཞུ་ཚི...</td>\n",
       "      <td>khong gis sku ngo rmung lags rtsa nas gyod gzh...</td>\n",
       "      <td>https://d38pmlk0v88drf.cloudfront.net/mv_wav/S...</td>\n",
       "      <td>STT_MV</td>\n",
       "    </tr>\n",
       "    <tr>\n",
       "      <th>1</th>\n",
       "      <td>STT_MV1789_0365_2511796_to_2519156.wav</td>\n",
       "      <td>གཟུགས་རྡུལ་དབང་ཤེས་སྐྱེད་མིན་ཏེ། དེ་ནི་དབང་པོ་...</td>\n",
       "      <td>gzugs rdul dbang shes skyed min te/_de ni dban...</td>\n",
       "      <td>https://d38pmlk0v88drf.cloudfront.net/mv_wav/S...</td>\n",
       "      <td>STT_MV</td>\n",
       "    </tr>\n",
       "    <tr>\n",
       "      <th>2</th>\n",
       "      <td>STT_TT00079_00406.600-00407.400</td>\n",
       "      <td>དོན་དུ་གཉེར་བའི་བློ་འདི།</td>\n",
       "      <td>don du gnyer ba'i blo 'di/_</td>\n",
       "      <td>https://d38pmlk0v88drf.cloudfront.net/wav/STT_...</td>\n",
       "      <td>STT_TT</td>\n",
       "    </tr>\n",
       "    <tr>\n",
       "      <th>3</th>\n",
       "      <td>STT_TT00188_00312.400-00314.000</td>\n",
       "      <td>ཁ་སང་སྔན་དུ་བ། ག་གེ་ཞིག་ཡོད་པ་མ་རེད།</td>\n",
       "      <td>kha sang sngan du ba/_ga ge zhig yod pa ma red/_</td>\n",
       "      <td>https://d38pmlk0v88drf.cloudfront.net/wav/STT_...</td>\n",
       "      <td>STT_TT</td>\n",
       "    </tr>\n",
       "    <tr>\n",
       "      <th>4</th>\n",
       "      <td>STT_TT00078_00581.450-00582.300</td>\n",
       "      <td>གཙུག་ལག་ཁང་དེ་བ་ལ་ཡ་</td>\n",
       "      <td>gtsug lag khang de ba la ya _</td>\n",
       "      <td>https://d38pmlk0v88drf.cloudfront.net/wav/STT_...</td>\n",
       "      <td>STT_TT</td>\n",
       "    </tr>\n",
       "  </tbody>\n",
       "</table>\n",
       "</div>"
      ],
      "text/plain": [
       "                                file_name  \\\n",
       "0  STT_MV0105_0153_1036457_to_1046241.wav   \n",
       "1  STT_MV1789_0365_2511796_to_2519156.wav   \n",
       "2         STT_TT00079_00406.600-00407.400   \n",
       "3         STT_TT00188_00312.400-00314.000   \n",
       "4         STT_TT00078_00581.450-00582.300   \n",
       "\n",
       "                                                 uni  \\\n",
       "0  ཁོང་གིས་སྐུ་ངོ་རྨུང་ལགས་རྩ་ནས་གྱོད་གཞིའི་ཞུ་ཚི...   \n",
       "1  གཟུགས་རྡུལ་དབང་ཤེས་སྐྱེད་མིན་ཏེ། དེ་ནི་དབང་པོ་...   \n",
       "2                          དོན་དུ་གཉེར་བའི་བློ་འདི།    \n",
       "3              ཁ་སང་སྔན་དུ་བ། ག་གེ་ཞིག་ཡོད་པ་མ་རེད།    \n",
       "4                              གཙུག་ལག་ཁང་དེ་བ་ལ་ཡ་    \n",
       "\n",
       "                                               wylie  \\\n",
       "0  khong gis sku ngo rmung lags rtsa nas gyod gzh...   \n",
       "1  gzugs rdul dbang shes skyed min te/_de ni dban...   \n",
       "2                        don du gnyer ba'i blo 'di/_   \n",
       "3   kha sang sngan du ba/_ga ge zhig yod pa ma red/_   \n",
       "4                      gtsug lag khang de ba la ya _   \n",
       "\n",
       "                                                 url    dept  \n",
       "0  https://d38pmlk0v88drf.cloudfront.net/mv_wav/S...  STT_MV  \n",
       "1  https://d38pmlk0v88drf.cloudfront.net/mv_wav/S...  STT_MV  \n",
       "2  https://d38pmlk0v88drf.cloudfront.net/wav/STT_...  STT_TT  \n",
       "3  https://d38pmlk0v88drf.cloudfront.net/wav/STT_...  STT_TT  \n",
       "4  https://d38pmlk0v88drf.cloudfront.net/wav/STT_...  STT_TT  "
      ]
     },
     "execution_count": 13,
     "metadata": {},
     "output_type": "execute_result"
    }
   ],
   "source": [
    "df.head()"
   ]
  },
  {
   "cell_type": "code",
   "execution_count": 14,
   "metadata": {},
   "outputs": [
    {
     "data": {
      "text/plain": [
       "(30973, 5)"
      ]
     },
     "execution_count": 14,
     "metadata": {},
     "output_type": "execute_result"
    }
   ],
   "source": [
    "df.shape"
   ]
  },
  {
   "cell_type": "code",
   "execution_count": 15,
   "metadata": {},
   "outputs": [
    {
     "data": {
      "text/plain": [
       "('https://d38pmlk0v88drf.cloudfront.net/wav/STT_AB00051_0099_899260_to_907849.wav',\n",
       " 'གནས་བརྟན་རྣམས་ལ་ཕྱག་བགྱིད་དགོངས་སུ་གསོལ། མཆོད་སྦྱིན་ཐ་མ་འདི་ནི་བཞེས་སུ་གསོལ། ཞེས་ཞུས་ལ་ཕུལ་ཅིག་ཅེས་གསུངས་ནས་བཏང་ངོ་། ')"
      ]
     },
     "execution_count": 15,
     "metadata": {},
     "output_type": "execute_result"
    }
   ],
   "source": [
    "i = 2431\n",
    "df.loc[i, 'url'], df.loc[i, 'uni']"
   ]
  },
  {
   "cell_type": "markdown",
   "metadata": {},
   "source": [
    "### An Example inference from different models"
   ]
  },
  {
   "cell_type": "code",
   "execution_count": 35,
   "metadata": {},
   "outputs": [
    {
     "name": "stdout",
     "output_type": "stream",
     "text": [
      "openpecha/wav2vec2_run8 གནས་བརྟན་རྣམས་ལ་ཕྱག་གིས་གོངས་སུ་གསོལ། མཆོད་སྦྱིན་མཐའ་མ་འདི་ནི་ཞེས་སུ་གསོལ། ཞེས་ཞུས་ལ་ཕུལ་གཅིག་ཅེས་གསུང་ནས་བཏང་ངོ་།\n",
      "TenzinGayche/whisper-small-3 གནས་བརྟན་རྣམས་ལ་ཕྱག་གིས་དགོངས་སུ་གསོལ༎མཆོད་སྦྱིན་ཐ་མ་དེ་ནི་ཞེས་སུ་སྲོལ༎ཞེས་ཞུས་ལ་ཁུལ་གཅིག་ཅེས་གསུངས་ནས་བཏང་ངོ་༎\n",
      "spsither/whipser-small-r2 ༎གནས་བརྟན་རྣམས་ལ་ཕྱག་གིས་དགོངས་སུ་གསོལ༎མཆོད་སྦྱིན་ཐ་མ་དེ་ནི་ཞེས་སུ་བསོལ་ཞུས་ལབུལ་ཅིག་ཅེས་གསུངས་ནས་བཏང་ངོ་༎\n"
     ]
    }
   ],
   "source": [
    "from transformers import pipeline\n",
    "import pyewts\n",
    "generator = pipeline(model=\"openpecha/wav2vec2_run8\")\n",
    "opt = generator(df.loc[i, 'url'])\n",
    "inf = opt['text']\n",
    "print(\"openpecha/wav2vec2_run8\", inf)\n",
    "\n",
    "generator = pipeline(model=\"TenzinGayche/whisper-small-3\")\n",
    "opt = generator(df.loc[i, 'url'])\n",
    "inf = opt['text']\n",
    "converter = pyewts.pyewts()\n",
    "print(\"TenzinGayche/whisper-small-3\", converter.toUnicode(inf))\n",
    "\n",
    "generator = pipeline(model=\"spsither/whipser-small-r2\")\n",
    "opt = generator(df.loc[i, 'url'])\n",
    "inf = opt['text']\n",
    "converter = pyewts.pyewts()\n",
    "print(\"spsither/whipser-small-r2\", converter.toUnicode(inf))"
   ]
  },
  {
   "cell_type": "markdown",
   "metadata": {},
   "source": [
    "### Inference on all the benchmark data with the latest model"
   ]
  },
  {
   "cell_type": "code",
   "execution_count": 34,
   "metadata": {},
   "outputs": [
    {
     "data": {
      "application/vnd.jupyter.widget-view+json": {
       "model_id": "4b70fd70cb3143beb19dc429f2626a21",
       "version_major": 2,
       "version_minor": 0
      },
      "text/plain": [
       "  0%|          | 0/1935 [00:00<?, ?it/s]"
      ]
     },
     "metadata": {},
     "output_type": "display_data"
    },
    {
     "name": "stdout",
     "output_type": "stream",
     "text": [
      "[\"khong gis sku ngo rmung lags rtsa nas gyod gzhi'i zhu rdzas gcig bdag zer gi red pe de'adras rtag par gnang gi re red khong gi tsha bos nag nyes bsags tang ma song na khos nang nye bza' \", \"gzugs dus dbang shes kyis mi ldan//de ni dpon po las las//'dus pas de rnams skye byed na//tshogs pa de yang mi thos to//\", \"rnyed pa'i blo de \", 'kha sang sngon de ba ga ge cig yod ma red ', 'gtsug lag khang de ba la ya ']\n"
     ]
    }
   ],
   "source": [
    "# import os\n",
    "from transformers import pipeline\n",
    "from datasets import Dataset\n",
    "from tqdm.auto import tqdm\n",
    "\n",
    "generator = pipeline(model=\"TenzinGayche/whisper-small-3\", device=\"cuda:0\")\n",
    "\n",
    "def iterate_data(dataset):\n",
    "    for i, item in enumerate(dataset):\n",
    "        yield item[\"url\"]\n",
    "\n",
    "BATCH_SIZE = 16\n",
    "predictions = []\n",
    "\n",
    "# run streamed inference\n",
    "for out in tqdm(generator(iterate_data(dataset['test']), batch_size=BATCH_SIZE), total=len(dataset['test'])//BATCH_SIZE):\n",
    "    predictions.append(out[\"text\"])\n",
    "\n",
    "print(predictions[:5])\n",
    "\n",
    "# df['inf']  = df.apply(lambda row: generator(row['url'])['text'], axis=1)\n",
    "# updated_dataset = dataset.map(generate, batched=True, batch_size=8)"
   ]
  },
  {
   "cell_type": "code",
   "execution_count": 37,
   "metadata": {},
   "outputs": [],
   "source": [
    "df['inf'] = predictions"
   ]
  },
  {
   "cell_type": "code",
   "execution_count": 38,
   "metadata": {},
   "outputs": [
    {
     "data": {
      "text/html": [
       "<div>\n",
       "<style scoped>\n",
       "    .dataframe tbody tr th:only-of-type {\n",
       "        vertical-align: middle;\n",
       "    }\n",
       "\n",
       "    .dataframe tbody tr th {\n",
       "        vertical-align: top;\n",
       "    }\n",
       "\n",
       "    .dataframe thead th {\n",
       "        text-align: right;\n",
       "    }\n",
       "</style>\n",
       "<table border=\"1\" class=\"dataframe\">\n",
       "  <thead>\n",
       "    <tr style=\"text-align: right;\">\n",
       "      <th></th>\n",
       "      <th>file_name</th>\n",
       "      <th>uni</th>\n",
       "      <th>wylie</th>\n",
       "      <th>url</th>\n",
       "      <th>dept</th>\n",
       "      <th>inf</th>\n",
       "    </tr>\n",
       "  </thead>\n",
       "  <tbody>\n",
       "    <tr>\n",
       "      <th>0</th>\n",
       "      <td>STT_MV0105_0153_1036457_to_1046241.wav</td>\n",
       "      <td>ཁོང་གིས་སྐུ་ངོ་རྨུང་ལགས་རྩ་ནས་གྱོད་གཞིའི་ཞུ་ཚི...</td>\n",
       "      <td>khong gis sku ngo rmung lags rtsa nas gyod gzh...</td>\n",
       "      <td>https://d38pmlk0v88drf.cloudfront.net/mv_wav/S...</td>\n",
       "      <td>STT_MV</td>\n",
       "      <td>khong gis sku ngo rmung lags rtsa nas gyod gzh...</td>\n",
       "    </tr>\n",
       "    <tr>\n",
       "      <th>1</th>\n",
       "      <td>STT_MV1789_0365_2511796_to_2519156.wav</td>\n",
       "      <td>གཟུགས་རྡུལ་དབང་ཤེས་སྐྱེད་མིན་ཏེ། དེ་ནི་དབང་པོ་...</td>\n",
       "      <td>gzugs rdul dbang shes skyed min te/_de ni dban...</td>\n",
       "      <td>https://d38pmlk0v88drf.cloudfront.net/mv_wav/S...</td>\n",
       "      <td>STT_MV</td>\n",
       "      <td>gzugs dus dbang shes kyis mi ldan//de ni dpon ...</td>\n",
       "    </tr>\n",
       "    <tr>\n",
       "      <th>2</th>\n",
       "      <td>STT_TT00079_00406.600-00407.400</td>\n",
       "      <td>དོན་དུ་གཉེར་བའི་བློ་འདི།</td>\n",
       "      <td>don du gnyer ba'i blo 'di/_</td>\n",
       "      <td>https://d38pmlk0v88drf.cloudfront.net/wav/STT_...</td>\n",
       "      <td>STT_TT</td>\n",
       "      <td>rnyed pa'i blo de</td>\n",
       "    </tr>\n",
       "    <tr>\n",
       "      <th>3</th>\n",
       "      <td>STT_TT00188_00312.400-00314.000</td>\n",
       "      <td>ཁ་སང་སྔན་དུ་བ། ག་གེ་ཞིག་ཡོད་པ་མ་རེད།</td>\n",
       "      <td>kha sang sngan du ba/_ga ge zhig yod pa ma red/_</td>\n",
       "      <td>https://d38pmlk0v88drf.cloudfront.net/wav/STT_...</td>\n",
       "      <td>STT_TT</td>\n",
       "      <td>kha sang sngon de ba ga ge cig yod ma red</td>\n",
       "    </tr>\n",
       "    <tr>\n",
       "      <th>4</th>\n",
       "      <td>STT_TT00078_00581.450-00582.300</td>\n",
       "      <td>གཙུག་ལག་ཁང་དེ་བ་ལ་ཡ་</td>\n",
       "      <td>gtsug lag khang de ba la ya _</td>\n",
       "      <td>https://d38pmlk0v88drf.cloudfront.net/wav/STT_...</td>\n",
       "      <td>STT_TT</td>\n",
       "      <td>gtsug lag khang de ba la ya</td>\n",
       "    </tr>\n",
       "  </tbody>\n",
       "</table>\n",
       "</div>"
      ],
      "text/plain": [
       "                                file_name  \\\n",
       "0  STT_MV0105_0153_1036457_to_1046241.wav   \n",
       "1  STT_MV1789_0365_2511796_to_2519156.wav   \n",
       "2         STT_TT00079_00406.600-00407.400   \n",
       "3         STT_TT00188_00312.400-00314.000   \n",
       "4         STT_TT00078_00581.450-00582.300   \n",
       "\n",
       "                                                 uni  \\\n",
       "0  ཁོང་གིས་སྐུ་ངོ་རྨུང་ལགས་རྩ་ནས་གྱོད་གཞིའི་ཞུ་ཚི...   \n",
       "1  གཟུགས་རྡུལ་དབང་ཤེས་སྐྱེད་མིན་ཏེ། དེ་ནི་དབང་པོ་...   \n",
       "2                          དོན་དུ་གཉེར་བའི་བློ་འདི།    \n",
       "3              ཁ་སང་སྔན་དུ་བ། ག་གེ་ཞིག་ཡོད་པ་མ་རེད།    \n",
       "4                              གཙུག་ལག་ཁང་དེ་བ་ལ་ཡ་    \n",
       "\n",
       "                                               wylie  \\\n",
       "0  khong gis sku ngo rmung lags rtsa nas gyod gzh...   \n",
       "1  gzugs rdul dbang shes skyed min te/_de ni dban...   \n",
       "2                        don du gnyer ba'i blo 'di/_   \n",
       "3   kha sang sngan du ba/_ga ge zhig yod pa ma red/_   \n",
       "4                      gtsug lag khang de ba la ya _   \n",
       "\n",
       "                                                 url    dept  \\\n",
       "0  https://d38pmlk0v88drf.cloudfront.net/mv_wav/S...  STT_MV   \n",
       "1  https://d38pmlk0v88drf.cloudfront.net/mv_wav/S...  STT_MV   \n",
       "2  https://d38pmlk0v88drf.cloudfront.net/wav/STT_...  STT_TT   \n",
       "3  https://d38pmlk0v88drf.cloudfront.net/wav/STT_...  STT_TT   \n",
       "4  https://d38pmlk0v88drf.cloudfront.net/wav/STT_...  STT_TT   \n",
       "\n",
       "                                                 inf  \n",
       "0  khong gis sku ngo rmung lags rtsa nas gyod gzh...  \n",
       "1  gzugs dus dbang shes kyis mi ldan//de ni dpon ...  \n",
       "2                                 rnyed pa'i blo de   \n",
       "3         kha sang sngon de ba ga ge cig yod ma red   \n",
       "4                       gtsug lag khang de ba la ya   "
      ]
     },
     "execution_count": 38,
     "metadata": {},
     "output_type": "execute_result"
    }
   ],
   "source": [
    "df.head()"
   ]
  },
  {
   "cell_type": "code",
   "execution_count": 39,
   "metadata": {},
   "outputs": [],
   "source": [
    "df.to_csv('tibetan-voice-benchmark-with-inf.tsv', index=False, sep='\\t')"
   ]
  },
  {
   "cell_type": "code",
   "execution_count": null,
   "metadata": {},
   "outputs": [],
   "source": [
    "# import pyewts\n",
    "\n",
    "# converter = pyewts.pyewts()\n",
    "\n",
    "# df_out['inf_uni'] = df_out['inf'].map(lambda x : converter.toUnicode(x))"
   ]
  },
  {
   "cell_type": "code",
   "execution_count": 40,
   "metadata": {},
   "outputs": [],
   "source": [
    "from evaluate import load\n",
    "\n",
    "cer_metric = load(\"cer\")"
   ]
  },
  {
   "cell_type": "code",
   "execution_count": 48,
   "metadata": {},
   "outputs": [
    {
     "name": "stdout",
     "output_type": "stream",
     "text": [
      "0.325\n"
     ]
    }
   ],
   "source": [
    "df_out = pd.read_csv('tibetan-voice-benchmark-with-inf.tsv')\n",
    "\n",
    "cer = cer_metric.compute(references=[df_out.loc[0, 'wylie']], predictions=[df_out.loc[0, 'inf']])\n",
    "\n",
    "print(cer)"
   ]
  },
  {
   "cell_type": "code",
   "execution_count": 49,
   "metadata": {},
   "outputs": [],
   "source": [
    "df_out['cer'] = df_out.apply(lambda row: min(cer_metric.compute(references=[df_out.loc[0, 'wylie']], predictions=[df_out.loc[0, 'inf']]), 1), axis=1)"
   ]
  },
  {
   "cell_type": "code",
   "execution_count": 50,
   "metadata": {},
   "outputs": [],
   "source": [
    "mean_cer = df_out['cer'].mean()"
   ]
  },
  {
   "cell_type": "code",
   "execution_count": 51,
   "metadata": {},
   "outputs": [
    {
     "data": {
      "text/plain": [
       "0.32500000000000007"
      ]
     },
     "execution_count": 51,
     "metadata": {},
     "output_type": "execute_result"
    }
   ],
   "source": [
    "mean_cer"
   ]
  },
  {
   "cell_type": "code",
   "execution_count": 52,
   "metadata": {},
   "outputs": [
    {
     "data": {
      "text/plain": [
       "32.50000000000001"
      ]
     },
     "execution_count": 52,
     "metadata": {},
     "output_type": "execute_result"
    }
   ],
   "source": [
    "mean_cer * 100"
   ]
  },
  {
   "cell_type": "code",
   "execution_count": 53,
   "metadata": {},
   "outputs": [
    {
     "data": {
      "text/html": [
       "<div>\n",
       "<style scoped>\n",
       "    .dataframe tbody tr th:only-of-type {\n",
       "        vertical-align: middle;\n",
       "    }\n",
       "\n",
       "    .dataframe tbody tr th {\n",
       "        vertical-align: top;\n",
       "    }\n",
       "\n",
       "    .dataframe thead th {\n",
       "        text-align: right;\n",
       "    }\n",
       "</style>\n",
       "<table border=\"1\" class=\"dataframe\">\n",
       "  <thead>\n",
       "    <tr style=\"text-align: right;\">\n",
       "      <th></th>\n",
       "      <th>file_name</th>\n",
       "      <th>uni</th>\n",
       "      <th>wylie</th>\n",
       "      <th>url</th>\n",
       "      <th>dept</th>\n",
       "      <th>inf</th>\n",
       "      <th>cer</th>\n",
       "    </tr>\n",
       "  </thead>\n",
       "  <tbody>\n",
       "    <tr>\n",
       "      <th>0</th>\n",
       "      <td>STT_MV0105_0153_1036457_to_1046241.wav</td>\n",
       "      <td>ཁོང་གིས་སྐུ་ངོ་རྨུང་ལགས་རྩ་ནས་གྱོད་གཞིའི་ཞུ་ཚི...</td>\n",
       "      <td>khong gis sku ngo rmung lags rtsa nas gyod gzh...</td>\n",
       "      <td>https://d38pmlk0v88drf.cloudfront.net/mv_wav/S...</td>\n",
       "      <td>STT_MV</td>\n",
       "      <td>khong gis sku ngo rmung lags rtsa nas gyod gzh...</td>\n",
       "      <td>0.325</td>\n",
       "    </tr>\n",
       "    <tr>\n",
       "      <th>1</th>\n",
       "      <td>STT_MV1789_0365_2511796_to_2519156.wav</td>\n",
       "      <td>གཟུགས་རྡུལ་དབང་ཤེས་སྐྱེད་མིན་ཏེ། དེ་ནི་དབང་པོ་...</td>\n",
       "      <td>gzugs rdul dbang shes skyed min te/_de ni dban...</td>\n",
       "      <td>https://d38pmlk0v88drf.cloudfront.net/mv_wav/S...</td>\n",
       "      <td>STT_MV</td>\n",
       "      <td>gzugs dus dbang shes kyis mi ldan//de ni dpon ...</td>\n",
       "      <td>0.325</td>\n",
       "    </tr>\n",
       "    <tr>\n",
       "      <th>2</th>\n",
       "      <td>STT_TT00079_00406.600-00407.400</td>\n",
       "      <td>དོན་དུ་གཉེར་བའི་བློ་འདི།</td>\n",
       "      <td>don du gnyer ba'i blo 'di/_</td>\n",
       "      <td>https://d38pmlk0v88drf.cloudfront.net/wav/STT_...</td>\n",
       "      <td>STT_TT</td>\n",
       "      <td>rnyed pa'i blo de</td>\n",
       "      <td>0.325</td>\n",
       "    </tr>\n",
       "    <tr>\n",
       "      <th>3</th>\n",
       "      <td>STT_TT00188_00312.400-00314.000</td>\n",
       "      <td>ཁ་སང་སྔན་དུ་བ། ག་གེ་ཞིག་ཡོད་པ་མ་རེད།</td>\n",
       "      <td>kha sang sngan du ba/_ga ge zhig yod pa ma red/_</td>\n",
       "      <td>https://d38pmlk0v88drf.cloudfront.net/wav/STT_...</td>\n",
       "      <td>STT_TT</td>\n",
       "      <td>kha sang sngon de ba ga ge cig yod ma red</td>\n",
       "      <td>0.325</td>\n",
       "    </tr>\n",
       "    <tr>\n",
       "      <th>4</th>\n",
       "      <td>STT_TT00078_00581.450-00582.300</td>\n",
       "      <td>གཙུག་ལག་ཁང་དེ་བ་ལ་ཡ་</td>\n",
       "      <td>gtsug lag khang de ba la ya _</td>\n",
       "      <td>https://d38pmlk0v88drf.cloudfront.net/wav/STT_...</td>\n",
       "      <td>STT_TT</td>\n",
       "      <td>gtsug lag khang de ba la ya</td>\n",
       "      <td>0.325</td>\n",
       "    </tr>\n",
       "  </tbody>\n",
       "</table>\n",
       "</div>"
      ],
      "text/plain": [
       "                                file_name  \\\n",
       "0  STT_MV0105_0153_1036457_to_1046241.wav   \n",
       "1  STT_MV1789_0365_2511796_to_2519156.wav   \n",
       "2         STT_TT00079_00406.600-00407.400   \n",
       "3         STT_TT00188_00312.400-00314.000   \n",
       "4         STT_TT00078_00581.450-00582.300   \n",
       "\n",
       "                                                 uni  \\\n",
       "0  ཁོང་གིས་སྐུ་ངོ་རྨུང་ལགས་རྩ་ནས་གྱོད་གཞིའི་ཞུ་ཚི...   \n",
       "1  གཟུགས་རྡུལ་དབང་ཤེས་སྐྱེད་མིན་ཏེ། དེ་ནི་དབང་པོ་...   \n",
       "2                          དོན་དུ་གཉེར་བའི་བློ་འདི།    \n",
       "3              ཁ་སང་སྔན་དུ་བ། ག་གེ་ཞིག་ཡོད་པ་མ་རེད།    \n",
       "4                              གཙུག་ལག་ཁང་དེ་བ་ལ་ཡ་    \n",
       "\n",
       "                                               wylie  \\\n",
       "0  khong gis sku ngo rmung lags rtsa nas gyod gzh...   \n",
       "1  gzugs rdul dbang shes skyed min te/_de ni dban...   \n",
       "2                        don du gnyer ba'i blo 'di/_   \n",
       "3   kha sang sngan du ba/_ga ge zhig yod pa ma red/_   \n",
       "4                      gtsug lag khang de ba la ya _   \n",
       "\n",
       "                                                 url    dept  \\\n",
       "0  https://d38pmlk0v88drf.cloudfront.net/mv_wav/S...  STT_MV   \n",
       "1  https://d38pmlk0v88drf.cloudfront.net/mv_wav/S...  STT_MV   \n",
       "2  https://d38pmlk0v88drf.cloudfront.net/wav/STT_...  STT_TT   \n",
       "3  https://d38pmlk0v88drf.cloudfront.net/wav/STT_...  STT_TT   \n",
       "4  https://d38pmlk0v88drf.cloudfront.net/wav/STT_...  STT_TT   \n",
       "\n",
       "                                                 inf    cer  \n",
       "0  khong gis sku ngo rmung lags rtsa nas gyod gzh...  0.325  \n",
       "1  gzugs dus dbang shes kyis mi ldan//de ni dpon ...  0.325  \n",
       "2                                 rnyed pa'i blo de   0.325  \n",
       "3         kha sang sngon de ba ga ge cig yod ma red   0.325  \n",
       "4                       gtsug lag khang de ba la ya   0.325  "
      ]
     },
     "execution_count": 53,
     "metadata": {},
     "output_type": "execute_result"
    }
   ],
   "source": [
    "df_out.head()"
   ]
  },
  {
   "cell_type": "code",
   "execution_count": 54,
   "metadata": {},
   "outputs": [],
   "source": [
    "\n",
    "df_out.to_csv('tibetan-voice-benchmark-with-inf-cer.tsv', sep='\\t', index=False)"
   ]
  }
 ],
 "metadata": {
  "kernelspec": {
   "display_name": ".env",
   "language": "python",
   "name": "python3"
  },
  "language_info": {
   "codemirror_mode": {
    "name": "ipython",
    "version": 3
   },
   "file_extension": ".py",
   "mimetype": "text/x-python",
   "name": "python",
   "nbconvert_exporter": "python",
   "pygments_lexer": "ipython3",
   "version": "3.10.12"
  }
 },
 "nbformat": 4,
 "nbformat_minor": 2
}
