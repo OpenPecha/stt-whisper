{
 "cells": [
  {
   "cell_type": "markdown",
   "metadata": {},
   "source": [
    "## Evaluation of STT models\n",
    "\n",
    "Load the benchmark dataset from huggingface"
   ]
  },
  {
   "cell_type": "code",
   "execution_count": 121,
   "metadata": {},
   "outputs": [],
   "source": [
    "from datasets import load_dataset\n",
    "import pandas as pd\n",
    "dataset = load_dataset(\"openpecha/tibetan-voice-benchmark\")\n",
    "df = pd.DataFrame(dataset['test'])"
   ]
  },
  {
   "cell_type": "code",
   "execution_count": 122,
   "metadata": {},
   "outputs": [
    {
     "data": {
      "text/html": [
       "<div>\n",
       "<style scoped>\n",
       "    .dataframe tbody tr th:only-of-type {\n",
       "        vertical-align: middle;\n",
       "    }\n",
       "\n",
       "    .dataframe tbody tr th {\n",
       "        vertical-align: top;\n",
       "    }\n",
       "\n",
       "    .dataframe thead th {\n",
       "        text-align: right;\n",
       "    }\n",
       "</style>\n",
       "<table border=\"1\" class=\"dataframe\">\n",
       "  <thead>\n",
       "    <tr style=\"text-align: right;\">\n",
       "      <th></th>\n",
       "      <th>file_name</th>\n",
       "      <th>uni</th>\n",
       "      <th>wylie</th>\n",
       "      <th>url</th>\n",
       "      <th>dept</th>\n",
       "    </tr>\n",
       "  </thead>\n",
       "  <tbody>\n",
       "    <tr>\n",
       "      <th>0</th>\n",
       "      <td>STT_MV0105_0153_1036457_to_1046241.wav</td>\n",
       "      <td>ཁོང་གིས་སྐུ་ངོ་རྨུང་ལགས་རྩ་ནས་གྱོད་གཞིའི་ཞུ་ཚི...</td>\n",
       "      <td>khong gis sku ngo rmung lags rtsa nas gyod gzh...</td>\n",
       "      <td>https://d38pmlk0v88drf.cloudfront.net/mv_wav/S...</td>\n",
       "      <td>STT_MV</td>\n",
       "    </tr>\n",
       "    <tr>\n",
       "      <th>1</th>\n",
       "      <td>STT_MV1789_0365_2511796_to_2519156.wav</td>\n",
       "      <td>གཟུགས་རྡུལ་དབང་ཤེས་སྐྱེད་མིན་ཏེ། དེ་ནི་དབང་པོ་...</td>\n",
       "      <td>gzugs rdul dbang shes skyed min te/_de ni dban...</td>\n",
       "      <td>https://d38pmlk0v88drf.cloudfront.net/mv_wav/S...</td>\n",
       "      <td>STT_MV</td>\n",
       "    </tr>\n",
       "    <tr>\n",
       "      <th>2</th>\n",
       "      <td>STT_TT00079_00406.600-00407.400</td>\n",
       "      <td>དོན་དུ་གཉེར་བའི་བློ་འདི།</td>\n",
       "      <td>don du gnyer ba'i blo 'di/_</td>\n",
       "      <td>https://d38pmlk0v88drf.cloudfront.net/wav/STT_...</td>\n",
       "      <td>STT_TT</td>\n",
       "    </tr>\n",
       "    <tr>\n",
       "      <th>3</th>\n",
       "      <td>STT_TT00188_00312.400-00314.000</td>\n",
       "      <td>ཁ་སང་སྔན་དུ་བ། ག་གེ་ཞིག་ཡོད་པ་མ་རེད།</td>\n",
       "      <td>kha sang sngan du ba/_ga ge zhig yod pa ma red/_</td>\n",
       "      <td>https://d38pmlk0v88drf.cloudfront.net/wav/STT_...</td>\n",
       "      <td>STT_TT</td>\n",
       "    </tr>\n",
       "    <tr>\n",
       "      <th>4</th>\n",
       "      <td>STT_TT00078_00581.450-00582.300</td>\n",
       "      <td>གཙུག་ལག་ཁང་དེ་བ་ལ་ཡ་</td>\n",
       "      <td>gtsug lag khang de ba la ya _</td>\n",
       "      <td>https://d38pmlk0v88drf.cloudfront.net/wav/STT_...</td>\n",
       "      <td>STT_TT</td>\n",
       "    </tr>\n",
       "  </tbody>\n",
       "</table>\n",
       "</div>"
      ],
      "text/plain": [
       "                                file_name  \\\n",
       "0  STT_MV0105_0153_1036457_to_1046241.wav   \n",
       "1  STT_MV1789_0365_2511796_to_2519156.wav   \n",
       "2         STT_TT00079_00406.600-00407.400   \n",
       "3         STT_TT00188_00312.400-00314.000   \n",
       "4         STT_TT00078_00581.450-00582.300   \n",
       "\n",
       "                                                 uni  \\\n",
       "0  ཁོང་གིས་སྐུ་ངོ་རྨུང་ལགས་རྩ་ནས་གྱོད་གཞིའི་ཞུ་ཚི...   \n",
       "1  གཟུགས་རྡུལ་དབང་ཤེས་སྐྱེད་མིན་ཏེ། དེ་ནི་དབང་པོ་...   \n",
       "2                          དོན་དུ་གཉེར་བའི་བློ་འདི།    \n",
       "3              ཁ་སང་སྔན་དུ་བ། ག་གེ་ཞིག་ཡོད་པ་མ་རེད།    \n",
       "4                              གཙུག་ལག་ཁང་དེ་བ་ལ་ཡ་    \n",
       "\n",
       "                                               wylie  \\\n",
       "0  khong gis sku ngo rmung lags rtsa nas gyod gzh...   \n",
       "1  gzugs rdul dbang shes skyed min te/_de ni dban...   \n",
       "2                        don du gnyer ba'i blo 'di/_   \n",
       "3   kha sang sngan du ba/_ga ge zhig yod pa ma red/_   \n",
       "4                      gtsug lag khang de ba la ya _   \n",
       "\n",
       "                                                 url    dept  \n",
       "0  https://d38pmlk0v88drf.cloudfront.net/mv_wav/S...  STT_MV  \n",
       "1  https://d38pmlk0v88drf.cloudfront.net/mv_wav/S...  STT_MV  \n",
       "2  https://d38pmlk0v88drf.cloudfront.net/wav/STT_...  STT_TT  \n",
       "3  https://d38pmlk0v88drf.cloudfront.net/wav/STT_...  STT_TT  \n",
       "4  https://d38pmlk0v88drf.cloudfront.net/wav/STT_...  STT_TT  "
      ]
     },
     "execution_count": 122,
     "metadata": {},
     "output_type": "execute_result"
    }
   ],
   "source": [
    "df.head()"
   ]
  },
  {
   "cell_type": "code",
   "execution_count": 123,
   "metadata": {},
   "outputs": [
    {
     "data": {
      "text/plain": [
       "(30973, 5)"
      ]
     },
     "execution_count": 123,
     "metadata": {},
     "output_type": "execute_result"
    }
   ],
   "source": [
    "df.shape"
   ]
  },
  {
   "cell_type": "code",
   "execution_count": 124,
   "metadata": {},
   "outputs": [
    {
     "data": {
      "text/plain": [
       "('https://d38pmlk0v88drf.cloudfront.net/wav/STT_AB00051_0099_899260_to_907849.wav',\n",
       " 'གནས་བརྟན་རྣམས་ལ་ཕྱག་བགྱིད་དགོངས་སུ་གསོལ། མཆོད་སྦྱིན་ཐ་མ་འདི་ནི་བཞེས་སུ་གསོལ། ཞེས་ཞུས་ལ་ཕུལ་ཅིག་ཅེས་གསུངས་ནས་བཏང་ངོ་། ')"
      ]
     },
     "execution_count": 124,
     "metadata": {},
     "output_type": "execute_result"
    }
   ],
   "source": [
    "i = 2431\n",
    "df.loc[i, 'url'], df.loc[i, 'uni']"
   ]
  },
  {
   "cell_type": "markdown",
   "metadata": {},
   "source": [
    "### An Example inference from different models"
   ]
  },
  {
   "cell_type": "code",
   "execution_count": 125,
   "metadata": {},
   "outputs": [
    {
     "name": "stdout",
     "output_type": "stream",
     "text": [
      "openpecha/wav2vec2_run8 གནས་བརྟན་རྣམས་ལ་ཕྱག་གིས་གོངས་སུ་གསོལ། མཆོད་སྦྱིན་མཐའ་མ་འདི་ནི་ཞེས་སུ་གསོལ། ཞེས་ཞུས་ལ་ཕུལ་གཅིག་ཅེས་གསུང་ནས་བཏང་ངོ་།\n",
      "TenzinGayche/whisper-small-3 གནས་བརྟན་རྣམས་ལ་ཕྱག་གིས་དགོངས་སུ་གསོལ༎མཆོད་སྦྱིན་ཐ་མ་དེ་ནི་ཞེས་སུ་སྲོལ༎ཞེས་ཞུས་ལ་ཁུལ་གཅིག་ཅེས་གསུངས་ནས་བཏང་ངོ་༎\n",
      "spsither/whipser-small-r2 ༎གནས་བརྟན་རྣམས་ལ་ཕྱག་གིས་དགོངས་སུ་གསོལ༎མཆོད་སྦྱིན་ཐ་མ་དེ་ནི་ཞེས་སུ་བསོལ་ཞུས་ལབུལ་ཅིག་ཅེས་གསུངས་ནས་བཏང་ངོ་༎\n"
     ]
    }
   ],
   "source": [
    "from transformers import pipeline\n",
    "import pyewts\n",
    "generator = pipeline(model=\"openpecha/wav2vec2_run8\")\n",
    "opt = generator(df.loc[i, 'url'])\n",
    "inf = opt['text']\n",
    "print(\"openpecha/wav2vec2_run8\", inf)\n",
    "\n",
    "generator = pipeline(model=\"TenzinGayche/whisper-small-3\")\n",
    "opt = generator(df.loc[i, 'url'])\n",
    "inf = opt['text']\n",
    "converter = pyewts.pyewts()\n",
    "print(\"TenzinGayche/whisper-small-3\", converter.toUnicode(inf))\n",
    "\n",
    "generator = pipeline(model=\"spsither/whipser-small-r2\")\n",
    "opt = generator(df.loc[i, 'url'])\n",
    "inf = opt['text']\n",
    "converter = pyewts.pyewts()\n",
    "print(\"spsither/whipser-small-r2\", converter.toUnicode(inf))"
   ]
  },
  {
   "cell_type": "markdown",
   "metadata": {},
   "source": [
    "### Inference on all the benchmark data with the latest model"
   ]
  },
  {
   "cell_type": "code",
   "execution_count": null,
   "metadata": {},
   "outputs": [],
   "source": [
    "# import os\n",
    "from transformers import pipeline\n",
    "from datasets import Dataset\n",
    "from tqdm.auto import tqdm\n",
    "\n",
    "generator = pipeline(model=\"TenzinGayche/whisper-small-3\", device=\"cuda:0\")\n",
    "\n",
    "def iterate_data(dataset):\n",
    "    for i, item in enumerate(dataset):\n",
    "        yield item[\"url\"]\n",
    "\n",
    "BATCH_SIZE = 16\n",
    "predictions = []\n",
    "\n",
    "# run streamed inference\n",
    "for out in tqdm(generator(iterate_data(dataset['test']), batch_size=BATCH_SIZE), total=len(dataset['test'])//BATCH_SIZE):\n",
    "    predictions.append(out[\"text\"])\n",
    "\n",
    "print(predictions[:5])\n",
    "\n",
    "# df['inf']  = df.apply(lambda row: generator(row['url'])['text'], axis=1)\n",
    "# updated_dataset = dataset.map(generate, batched=True, batch_size=8)"
   ]
  },
  {
   "cell_type": "code",
   "execution_count": null,
   "metadata": {},
   "outputs": [],
   "source": [
    "df['inf'] = predictions"
   ]
  },
  {
   "cell_type": "code",
   "execution_count": 126,
   "metadata": {},
   "outputs": [
    {
     "data": {
      "text/html": [
       "<div>\n",
       "<style scoped>\n",
       "    .dataframe tbody tr th:only-of-type {\n",
       "        vertical-align: middle;\n",
       "    }\n",
       "\n",
       "    .dataframe tbody tr th {\n",
       "        vertical-align: top;\n",
       "    }\n",
       "\n",
       "    .dataframe thead th {\n",
       "        text-align: right;\n",
       "    }\n",
       "</style>\n",
       "<table border=\"1\" class=\"dataframe\">\n",
       "  <thead>\n",
       "    <tr style=\"text-align: right;\">\n",
       "      <th></th>\n",
       "      <th>file_name</th>\n",
       "      <th>uni</th>\n",
       "      <th>wylie</th>\n",
       "      <th>url</th>\n",
       "      <th>dept</th>\n",
       "    </tr>\n",
       "  </thead>\n",
       "  <tbody>\n",
       "    <tr>\n",
       "      <th>0</th>\n",
       "      <td>STT_MV0105_0153_1036457_to_1046241.wav</td>\n",
       "      <td>ཁོང་གིས་སྐུ་ངོ་རྨུང་ལགས་རྩ་ནས་གྱོད་གཞིའི་ཞུ་ཚི...</td>\n",
       "      <td>khong gis sku ngo rmung lags rtsa nas gyod gzh...</td>\n",
       "      <td>https://d38pmlk0v88drf.cloudfront.net/mv_wav/S...</td>\n",
       "      <td>STT_MV</td>\n",
       "    </tr>\n",
       "    <tr>\n",
       "      <th>1</th>\n",
       "      <td>STT_MV1789_0365_2511796_to_2519156.wav</td>\n",
       "      <td>གཟུགས་རྡུལ་དབང་ཤེས་སྐྱེད་མིན་ཏེ། དེ་ནི་དབང་པོ་...</td>\n",
       "      <td>gzugs rdul dbang shes skyed min te/_de ni dban...</td>\n",
       "      <td>https://d38pmlk0v88drf.cloudfront.net/mv_wav/S...</td>\n",
       "      <td>STT_MV</td>\n",
       "    </tr>\n",
       "    <tr>\n",
       "      <th>2</th>\n",
       "      <td>STT_TT00079_00406.600-00407.400</td>\n",
       "      <td>དོན་དུ་གཉེར་བའི་བློ་འདི།</td>\n",
       "      <td>don du gnyer ba'i blo 'di/_</td>\n",
       "      <td>https://d38pmlk0v88drf.cloudfront.net/wav/STT_...</td>\n",
       "      <td>STT_TT</td>\n",
       "    </tr>\n",
       "    <tr>\n",
       "      <th>3</th>\n",
       "      <td>STT_TT00188_00312.400-00314.000</td>\n",
       "      <td>ཁ་སང་སྔན་དུ་བ། ག་གེ་ཞིག་ཡོད་པ་མ་རེད།</td>\n",
       "      <td>kha sang sngan du ba/_ga ge zhig yod pa ma red/_</td>\n",
       "      <td>https://d38pmlk0v88drf.cloudfront.net/wav/STT_...</td>\n",
       "      <td>STT_TT</td>\n",
       "    </tr>\n",
       "    <tr>\n",
       "      <th>4</th>\n",
       "      <td>STT_TT00078_00581.450-00582.300</td>\n",
       "      <td>གཙུག་ལག་ཁང་དེ་བ་ལ་ཡ་</td>\n",
       "      <td>gtsug lag khang de ba la ya _</td>\n",
       "      <td>https://d38pmlk0v88drf.cloudfront.net/wav/STT_...</td>\n",
       "      <td>STT_TT</td>\n",
       "    </tr>\n",
       "  </tbody>\n",
       "</table>\n",
       "</div>"
      ],
      "text/plain": [
       "                                file_name  \\\n",
       "0  STT_MV0105_0153_1036457_to_1046241.wav   \n",
       "1  STT_MV1789_0365_2511796_to_2519156.wav   \n",
       "2         STT_TT00079_00406.600-00407.400   \n",
       "3         STT_TT00188_00312.400-00314.000   \n",
       "4         STT_TT00078_00581.450-00582.300   \n",
       "\n",
       "                                                 uni  \\\n",
       "0  ཁོང་གིས་སྐུ་ངོ་རྨུང་ལགས་རྩ་ནས་གྱོད་གཞིའི་ཞུ་ཚི...   \n",
       "1  གཟུགས་རྡུལ་དབང་ཤེས་སྐྱེད་མིན་ཏེ། དེ་ནི་དབང་པོ་...   \n",
       "2                          དོན་དུ་གཉེར་བའི་བློ་འདི།    \n",
       "3              ཁ་སང་སྔན་དུ་བ། ག་གེ་ཞིག་ཡོད་པ་མ་རེད།    \n",
       "4                              གཙུག་ལག་ཁང་དེ་བ་ལ་ཡ་    \n",
       "\n",
       "                                               wylie  \\\n",
       "0  khong gis sku ngo rmung lags rtsa nas gyod gzh...   \n",
       "1  gzugs rdul dbang shes skyed min te/_de ni dban...   \n",
       "2                        don du gnyer ba'i blo 'di/_   \n",
       "3   kha sang sngan du ba/_ga ge zhig yod pa ma red/_   \n",
       "4                      gtsug lag khang de ba la ya _   \n",
       "\n",
       "                                                 url    dept  \n",
       "0  https://d38pmlk0v88drf.cloudfront.net/mv_wav/S...  STT_MV  \n",
       "1  https://d38pmlk0v88drf.cloudfront.net/mv_wav/S...  STT_MV  \n",
       "2  https://d38pmlk0v88drf.cloudfront.net/wav/STT_...  STT_TT  \n",
       "3  https://d38pmlk0v88drf.cloudfront.net/wav/STT_...  STT_TT  \n",
       "4  https://d38pmlk0v88drf.cloudfront.net/wav/STT_...  STT_TT  "
      ]
     },
     "execution_count": 126,
     "metadata": {},
     "output_type": "execute_result"
    }
   ],
   "source": [
    "df.head()"
   ]
  },
  {
   "cell_type": "code",
   "execution_count": null,
   "metadata": {},
   "outputs": [],
   "source": [
    "df.to_csv('tibetan-voice-benchmark-with-inf.tsv', index=False, sep='\\t')"
   ]
  },
  {
   "cell_type": "code",
   "execution_count": 145,
   "metadata": {},
   "outputs": [],
   "source": [
    "df = pd.read_csv('tibetan-voice-benchmark-with-inf.csv')"
   ]
  },
  {
   "cell_type": "code",
   "execution_count": 128,
   "metadata": {},
   "outputs": [],
   "source": [
    "import pyewts\n",
    "\n",
    "converter = pyewts.pyewts()\n",
    "\n",
    "df['inf_uni'] = df['inf'].map(lambda x : converter.toUnicode(x))"
   ]
  },
  {
   "cell_type": "code",
   "execution_count": 129,
   "metadata": {},
   "outputs": [],
   "source": [
    "from evaluate import load\n",
    "\n",
    "cer_metric = load(\"cer\")"
   ]
  },
  {
   "cell_type": "code",
   "execution_count": 130,
   "metadata": {},
   "outputs": [
    {
     "name": "stdout",
     "output_type": "stream",
     "text": [
      "['ཁོང་གིས་སྐུ་ངོ་རྨུང་ལགས་རྩ་ནས་གྱོད་གཞིའི་ཞུ་ཚིག་གཞན་དག་གཟིགས་ཀི་རེད་པེ། དེ་འདྲས་རྟག་པར་གནང་གི་རེད། ཁོང་གི་ཚ་བོས་ནག་ཉེས་བསགས་ཙང་། '] ['ཁོང་གིས་སྐུ་ངོ་རྨུང་ལགས་རྩ་ནས་གྱོད་གཞིའི་ཞུ་རྫས་གཅིག་བདག་ཟེར་གི་རེད་པེ་དེའདྲས་རྟག་པར་གནང་གི་རེ་རེད་ཁོང་གི་ཚ་བོས་ནག་ཉེས་བསགས་ཏང་མ་སོང་ན་ཁོས་ནང་ཉེ་བཟའ་']\n",
      "0.3359375\n"
     ]
    }
   ],
   "source": [
    "print([df.loc[0, 'uni']], [df.loc[0, 'inf_uni']])\n",
    "cer = cer_metric.compute(references=[df.loc[0, 'uni']], predictions=[df.loc[0, 'inf_uni']])\n",
    "\n",
    "print(cer)"
   ]
  },
  {
   "cell_type": "code",
   "execution_count": 131,
   "metadata": {},
   "outputs": [],
   "source": [
    "def calculate_cer(row):\n",
    "    try:\n",
    "        uni = row['uni']\n",
    "        inf_uni = row['inf_uni']\n",
    "        cer = cer_metric.compute(references=[uni], predictions=[inf_uni])\n",
    "        cer = min(cer, 1.0)\n",
    "        return cer\n",
    "    except:\n",
    "        return 0.0"
   ]
  },
  {
   "cell_type": "code",
   "execution_count": 132,
   "metadata": {},
   "outputs": [],
   "source": [
    "df['cer'] = df.apply(lambda row: calculate_cer(row), axis=1)"
   ]
  },
  {
   "cell_type": "markdown",
   "metadata": {},
   "source": [
    "### The Average CER"
   ]
  },
  {
   "cell_type": "code",
   "execution_count": 133,
   "metadata": {},
   "outputs": [
    {
     "data": {
      "text/plain": [
       "0.37937862316524784"
      ]
     },
     "execution_count": 133,
     "metadata": {},
     "output_type": "execute_result"
    }
   ],
   "source": [
    "df['cer'].mean()"
   ]
  },
  {
   "cell_type": "markdown",
   "metadata": {},
   "source": [
    "### Department wise CER"
   ]
  },
  {
   "cell_type": "code",
   "execution_count": 154,
   "metadata": {},
   "outputs": [
    {
     "data": {
      "text/html": [
       "<div>\n",
       "<style scoped>\n",
       "    .dataframe tbody tr th:only-of-type {\n",
       "        vertical-align: middle;\n",
       "    }\n",
       "\n",
       "    .dataframe tbody tr th {\n",
       "        vertical-align: top;\n",
       "    }\n",
       "\n",
       "    .dataframe thead th {\n",
       "        text-align: right;\n",
       "    }\n",
       "</style>\n",
       "<table border=\"1\" class=\"dataframe\">\n",
       "  <thead>\n",
       "    <tr style=\"text-align: right;\">\n",
       "      <th></th>\n",
       "      <th>file_name</th>\n",
       "    </tr>\n",
       "    <tr>\n",
       "      <th>dept</th>\n",
       "      <th></th>\n",
       "    </tr>\n",
       "  </thead>\n",
       "  <tbody>\n",
       "    <tr>\n",
       "      <th>STT_AB</th>\n",
       "      <td>2794</td>\n",
       "    </tr>\n",
       "    <tr>\n",
       "      <th>STT_CS</th>\n",
       "      <td>1945</td>\n",
       "    </tr>\n",
       "    <tr>\n",
       "      <th>STT_MV</th>\n",
       "      <td>8370</td>\n",
       "    </tr>\n",
       "    <tr>\n",
       "      <th>STT_NS</th>\n",
       "      <td>2522</td>\n",
       "    </tr>\n",
       "    <tr>\n",
       "      <th>STT_TT</th>\n",
       "      <td>15342</td>\n",
       "    </tr>\n",
       "  </tbody>\n",
       "</table>\n",
       "</div>"
      ],
      "text/plain": [
       "        file_name\n",
       "dept             \n",
       "STT_AB       2794\n",
       "STT_CS       1945\n",
       "STT_MV       8370\n",
       "STT_NS       2522\n",
       "STT_TT      15342"
      ]
     },
     "execution_count": 154,
     "metadata": {},
     "output_type": "execute_result"
    }
   ],
   "source": [
    "df[['file_name', 'dept']].groupby('dept').count()"
   ]
  },
  {
   "cell_type": "code",
   "execution_count": 75,
   "metadata": {},
   "outputs": [
    {
     "data": {
      "text/html": [
       "<div>\n",
       "<style scoped>\n",
       "    .dataframe tbody tr th:only-of-type {\n",
       "        vertical-align: middle;\n",
       "    }\n",
       "\n",
       "    .dataframe tbody tr th {\n",
       "        vertical-align: top;\n",
       "    }\n",
       "\n",
       "    .dataframe thead th {\n",
       "        text-align: right;\n",
       "    }\n",
       "</style>\n",
       "<table border=\"1\" class=\"dataframe\">\n",
       "  <thead>\n",
       "    <tr style=\"text-align: right;\">\n",
       "      <th></th>\n",
       "      <th>cer</th>\n",
       "    </tr>\n",
       "    <tr>\n",
       "      <th>dept</th>\n",
       "      <th></th>\n",
       "    </tr>\n",
       "  </thead>\n",
       "  <tbody>\n",
       "    <tr>\n",
       "      <th>STT_AB</th>\n",
       "      <td>0.159667</td>\n",
       "    </tr>\n",
       "    <tr>\n",
       "      <th>STT_CS</th>\n",
       "      <td>0.479060</td>\n",
       "    </tr>\n",
       "    <tr>\n",
       "      <th>STT_MV</th>\n",
       "      <td>0.760679</td>\n",
       "    </tr>\n",
       "    <tr>\n",
       "      <th>STT_NS</th>\n",
       "      <td>0.340796</td>\n",
       "    </tr>\n",
       "    <tr>\n",
       "      <th>STT_TT</th>\n",
       "      <td>0.205074</td>\n",
       "    </tr>\n",
       "  </tbody>\n",
       "</table>\n",
       "</div>"
      ],
      "text/plain": [
       "             cer\n",
       "dept            \n",
       "STT_AB  0.159667\n",
       "STT_CS  0.479060\n",
       "STT_MV  0.760679\n",
       "STT_NS  0.340796\n",
       "STT_TT  0.205074"
      ]
     },
     "execution_count": 75,
     "metadata": {},
     "output_type": "execute_result"
    }
   ],
   "source": [
    "df.groupby('dept').mean('cer')"
   ]
  },
  {
   "cell_type": "markdown",
   "metadata": {},
   "source": [
    "### If we take out MV"
   ]
  },
  {
   "cell_type": "code",
   "execution_count": 77,
   "metadata": {},
   "outputs": [
    {
     "data": {
      "text/plain": [
       "0.238181370071628"
      ]
     },
     "execution_count": 77,
     "metadata": {},
     "output_type": "execute_result"
    }
   ],
   "source": [
    "df[df['dept'] != 'STT_MV']['cer'].mean()"
   ]
  },
  {
   "cell_type": "markdown",
   "metadata": {},
   "source": [
    "### Breakdown of CS\n",
    "\n",
    "https://github.com/MonlamAI/STT-template/blob/main/README.md"
   ]
  },
  {
   "cell_type": "code",
   "execution_count": 79,
   "metadata": {},
   "outputs": [],
   "source": [
    "df = df[df['dept'] == 'STT_CS']"
   ]
  },
  {
   "cell_type": "code",
   "execution_count": 134,
   "metadata": {},
   "outputs": [
    {
     "name": "stdout",
     "output_type": "stream",
     "text": [
      "{'data_type': 'story-telling', 'birth_year': 2016, 'age': 7, 'gender': 'female', 'location': 'Dharamsala', 'education_type': 'B', 'education_years': 4, 'grade_level': 1, 'school_code': 'R'}\n",
      "{'data_type': 'non-designated', 'birth_year': 2014, 'age': 9, 'gender': 'female', 'location': 'Dharamsala', 'education_type': 'B', 'education_years': 2, 'grade_level': 4, 'school_code': 'R'}\n",
      "{'data_type': 'conversation', 'birth_year': 2014, 'age': 9, 'gender': 'male', 'location': 'Dharamsala', 'education_type': 'B', 'education_years': 3, 'grade_level': 5, 'school_code': 'R'}\n"
     ]
    }
   ],
   "source": [
    "def parse_cs_file_name(code):\n",
    "    \n",
    "    try:\n",
    "        # Split the code into parts\n",
    "        parts = code.split('-')\n",
    "\n",
    "        # Decode each part of the code\n",
    "        \n",
    "        data_type = {'X': 'non-designated', 'D': 'story-telling', 'L':'conversation'}.get(parts[1], 'Unknown')\n",
    "        birth_year = parts[2][:4]\n",
    "        gender = {'P': 'male', 'M': 'female', 'X': 'other'}.get(parts[3][:1], 'Unknown')\n",
    "        location = {'D': 'Dharamsala', 'S': 'South India', 'L': 'Ladakh', 'N': 'Nepal'}.get(parts[4][:1], 'Unknown')\n",
    "        education_type = parts[5][0]\n",
    "        education_years = parts[5][1:3]\n",
    "        grade_level = parts[6][:1]\n",
    "        school_code = parts[7][:1]\n",
    "\n",
    "        # Create a dictionary with the decoded values\n",
    "        decoded = {\n",
    "            'data_type': data_type,\n",
    "            'birth_year': int(birth_year),\n",
    "            'age': 2023 - int(birth_year),\n",
    "            'gender': gender,\n",
    "            'location': location,\n",
    "            'education_type': education_type,\n",
    "            'education_years': int(education_years),\n",
    "            'grade_level': int(grade_level),\n",
    "            'school_code': school_code\n",
    "        }\n",
    "    except:\n",
    "        # print(f'Error decoding {code}')\n",
    "        return {}\n",
    "    return decoded\n",
    "\n",
    "# Example usage\n",
    "codes = [\n",
    "    'STT_CS-D-2016-M-D-B04-1-R-06_0017_147090_to_156979',\n",
    "    'STT_CS-X-2014-M-D-B02-4-R-01_0110_1035711_to_1037787',\n",
    "    'STT_CS-L-2014/2014-P/P-D/D-B03/B06-5/5-R/R-01_0129_1106637_to_1112914.mp3',\n",
    "]\n",
    "\n",
    "for code in codes:\n",
    "    print(parse_cs_file_name(code))\n"
   ]
  },
  {
   "cell_type": "code",
   "execution_count": 135,
   "metadata": {},
   "outputs": [],
   "source": [
    "df_parsed = df['file_name'].apply(lambda x: pd.Series(parse_cs_file_name(x)))\n",
    "df = pd.concat([df, df_parsed], axis=1)"
   ]
  },
  {
   "cell_type": "code",
   "execution_count": 136,
   "metadata": {},
   "outputs": [
    {
     "data": {
      "text/plain": [
       "Index(['file_name', 'uni', 'wylie', 'url', 'dept', 'inf', 'inf_uni', 'cer',\n",
       "       'data_type', 'birth_year', 'age', 'gender', 'location',\n",
       "       'education_type', 'education_years', 'grade_level', 'school_code'],\n",
       "      dtype='object')"
      ]
     },
     "execution_count": 136,
     "metadata": {},
     "output_type": "execute_result"
    }
   ],
   "source": [
    "df.columns"
   ]
  },
  {
   "cell_type": "markdown",
   "metadata": {},
   "source": [
    "### Age"
   ]
  },
  {
   "cell_type": "code",
   "execution_count": 137,
   "metadata": {},
   "outputs": [
    {
     "data": {
      "text/html": [
       "<div>\n",
       "<style scoped>\n",
       "    .dataframe tbody tr th:only-of-type {\n",
       "        vertical-align: middle;\n",
       "    }\n",
       "\n",
       "    .dataframe tbody tr th {\n",
       "        vertical-align: top;\n",
       "    }\n",
       "\n",
       "    .dataframe thead th {\n",
       "        text-align: right;\n",
       "    }\n",
       "</style>\n",
       "<table border=\"1\" class=\"dataframe\">\n",
       "  <thead>\n",
       "    <tr style=\"text-align: right;\">\n",
       "      <th></th>\n",
       "      <th>cer</th>\n",
       "    </tr>\n",
       "    <tr>\n",
       "      <th>age</th>\n",
       "      <th></th>\n",
       "    </tr>\n",
       "  </thead>\n",
       "  <tbody>\n",
       "    <tr>\n",
       "      <th>4.0</th>\n",
       "      <td>0.532205</td>\n",
       "    </tr>\n",
       "    <tr>\n",
       "      <th>5.0</th>\n",
       "      <td>0.533215</td>\n",
       "    </tr>\n",
       "    <tr>\n",
       "      <th>6.0</th>\n",
       "      <td>0.565959</td>\n",
       "    </tr>\n",
       "    <tr>\n",
       "      <th>7.0</th>\n",
       "      <td>0.485130</td>\n",
       "    </tr>\n",
       "    <tr>\n",
       "      <th>8.0</th>\n",
       "      <td>0.488292</td>\n",
       "    </tr>\n",
       "    <tr>\n",
       "      <th>9.0</th>\n",
       "      <td>0.434668</td>\n",
       "    </tr>\n",
       "    <tr>\n",
       "      <th>10.0</th>\n",
       "      <td>0.462836</td>\n",
       "    </tr>\n",
       "    <tr>\n",
       "      <th>11.0</th>\n",
       "      <td>0.459864</td>\n",
       "    </tr>\n",
       "    <tr>\n",
       "      <th>12.0</th>\n",
       "      <td>0.457008</td>\n",
       "    </tr>\n",
       "    <tr>\n",
       "      <th>13.0</th>\n",
       "      <td>0.444653</td>\n",
       "    </tr>\n",
       "    <tr>\n",
       "      <th>14.0</th>\n",
       "      <td>1.000000</td>\n",
       "    </tr>\n",
       "    <tr>\n",
       "      <th>15.0</th>\n",
       "      <td>0.473329</td>\n",
       "    </tr>\n",
       "  </tbody>\n",
       "</table>\n",
       "</div>"
      ],
      "text/plain": [
       "           cer\n",
       "age           \n",
       "4.0   0.532205\n",
       "5.0   0.533215\n",
       "6.0   0.565959\n",
       "7.0   0.485130\n",
       "8.0   0.488292\n",
       "9.0   0.434668\n",
       "10.0  0.462836\n",
       "11.0  0.459864\n",
       "12.0  0.457008\n",
       "13.0  0.444653\n",
       "14.0  1.000000\n",
       "15.0  0.473329"
      ]
     },
     "execution_count": 137,
     "metadata": {},
     "output_type": "execute_result"
    }
   ],
   "source": [
    "df[['age', 'cer']].groupby('age').mean('cer')"
   ]
  },
  {
   "cell_type": "markdown",
   "metadata": {},
   "source": [
    "### This looks like a pattern if we ignore the 14 age group"
   ]
  },
  {
   "cell_type": "code",
   "execution_count": 138,
   "metadata": {},
   "outputs": [
    {
     "data": {
      "text/plain": [
       "<Axes: xlabel='age'>"
      ]
     },
     "execution_count": 138,
     "metadata": {},
     "output_type": "execute_result"
    },
    {
     "data": {
      "image/png": "[encoded data removed]",
      "text/plain": [
       "<Figure size 640x480 with 1 Axes>"
      ]
     },
     "metadata": {},
     "output_type": "display_data"
    }
   ],
   "source": [
    "df[df['age'] != 14][['age', 'cer']].groupby('age').mean('cer').plot()"
   ]
  },
  {
   "cell_type": "markdown",
   "metadata": {},
   "source": [
    "### Gender"
   ]
  },
  {
   "cell_type": "code",
   "execution_count": 139,
   "metadata": {},
   "outputs": [
    {
     "data": {
      "text/html": [
       "<div>\n",
       "<style scoped>\n",
       "    .dataframe tbody tr th:only-of-type {\n",
       "        vertical-align: middle;\n",
       "    }\n",
       "\n",
       "    .dataframe tbody tr th {\n",
       "        vertical-align: top;\n",
       "    }\n",
       "\n",
       "    .dataframe thead th {\n",
       "        text-align: right;\n",
       "    }\n",
       "</style>\n",
       "<table border=\"1\" class=\"dataframe\">\n",
       "  <thead>\n",
       "    <tr style=\"text-align: right;\">\n",
       "      <th></th>\n",
       "      <th>cer</th>\n",
       "    </tr>\n",
       "    <tr>\n",
       "      <th>gender</th>\n",
       "      <th></th>\n",
       "    </tr>\n",
       "  </thead>\n",
       "  <tbody>\n",
       "    <tr>\n",
       "      <th>female</th>\n",
       "      <td>0.477607</td>\n",
       "    </tr>\n",
       "    <tr>\n",
       "      <th>male</th>\n",
       "      <td>0.479985</td>\n",
       "    </tr>\n",
       "  </tbody>\n",
       "</table>\n",
       "</div>"
      ],
      "text/plain": [
       "             cer\n",
       "gender          \n",
       "female  0.477607\n",
       "male    0.479985"
      ]
     },
     "execution_count": 139,
     "metadata": {},
     "output_type": "execute_result"
    }
   ],
   "source": [
    "df[['gender', 'cer']].groupby('gender').mean('cer')"
   ]
  },
  {
   "cell_type": "markdown",
   "metadata": {},
   "source": [
    "### Grade Level"
   ]
  },
  {
   "cell_type": "code",
   "execution_count": 140,
   "metadata": {},
   "outputs": [
    {
     "data": {
      "text/plain": [
       "<Axes: xlabel='grade_level'>"
      ]
     },
     "execution_count": 140,
     "metadata": {},
     "output_type": "execute_result"
    },
    {
     "data": {
      "image/png": "[encoded data removed]",
      "text/plain": [
       "<Figure size 640x480 with 1 Axes>"
      ]
     },
     "metadata": {},
     "output_type": "display_data"
    }
   ],
   "source": [
    "df[['grade_level', 'cer']].groupby('grade_level').mean('cer').plot()"
   ]
  },
  {
   "cell_type": "markdown",
   "metadata": {},
   "source": [
    "### School Code\n",
    "School Code is which school the subject's data was collected from\n",
    "* R = རྡ་སྟེང་བོད་ཁྱིམ་སློབ་གྲྭ\n",
    "* B = བོད་ཁྱིམ་ཉིན་མོའི་སློབ་གྲྭ\n",
    "* D = དྷ་ཤོད་བོད་ཁྱིམ་སློབ་གྲྭ\n",
    "* Y = ཡོངས་གླིང་སློབ་གྲྭ\n",
    "* P = སྤོན་ཊ་སློབ་གྲྭ\n",
    "* S = ཤེས་རབ་དགའ་ཚལ་སློབ་གླིང་།\n",
    "* M = མན་ཇུ་ཤི་རི།\n",
    "* G = གོ་པལ་པུར་སློབ་གྲྭ\n",
    "* T = སམ་བྷོ་ཊ་སློབ་གྲྭ\n",
    "* Z = སུ་ཇཱ་སློབ་གྲྭ\n",
    "* C = ཅོན་ཏ་ར་བོད་ཁྱིམ་སློབ་གྲྭ\n",
    "* K = རྒྱུད་སྟོད་གྲྭ་ཚང་།\n",
    "* N = རྣམ་རྒྱལ་གྲྭ་ཚང་།\n",
    "* A = ཤུག་གསེབ་ཨ་ནེའི་དགོན་པ།\n",
    "* L = དགེ་ལྡན་ཆོས་གླིང་།\n",
    "* X = མེད་པ།"
   ]
  },
  {
   "cell_type": "code",
   "execution_count": 120,
   "metadata": {},
   "outputs": [
    {
     "data": {
      "text/plain": [
       "<Axes: xlabel='school_code'>"
      ]
     },
     "execution_count": 120,
     "metadata": {},
     "output_type": "execute_result"
    },
    {
     "data": {
      "image/png": "[encoded data removed]",
      "text/plain": [
       "<Figure size 640x480 with 1 Axes>"
      ]
     },
     "metadata": {},
     "output_type": "display_data"
    }
   ],
   "source": [
    "df[['school_code', 'cer']].groupby('school_code').mean('cer').plot.bar()"
   ]
  },
  {
   "cell_type": "markdown",
   "metadata": {},
   "source": [
    "### Education Years"
   ]
  },
  {
   "cell_type": "code",
   "execution_count": 119,
   "metadata": {},
   "outputs": [
    {
     "data": {
      "text/plain": [
       "<Axes: xlabel='education_years'>"
      ]
     },
     "execution_count": 119,
     "metadata": {},
     "output_type": "execute_result"
    },
    {
     "data": {
      "image/png": "[encoded data removed]",
      "text/plain": [
       "<Figure size 640x480 with 1 Axes>"
      ]
     },
     "metadata": {},
     "output_type": "display_data"
    }
   ],
   "source": [
    "df[['education_years', 'cer']].groupby('education_years').mean('cer').plot()"
   ]
  },
  {
   "cell_type": "markdown",
   "metadata": {},
   "source": [
    "### Education Type\n",
    "* G = monastic\n",
    "* B = Tibetan school \n",
    "* R = Indian school (or other public / private school) \n",
    "* X = None"
   ]
  },
  {
   "cell_type": "code",
   "execution_count": 144,
   "metadata": {},
   "outputs": [
    {
     "data": {
      "text/plain": [
       "<Axes: xlabel='education_type'>"
      ]
     },
     "execution_count": 144,
     "metadata": {},
     "output_type": "execute_result"
    },
    {
     "data": {
      "image/png": "[encoded data removed]",
      "text/plain": [
       "<Figure size 640x480 with 1 Axes>"
      ]
     },
     "metadata": {},
     "output_type": "display_data"
    }
   ],
   "source": [
    "df[['education_type', 'cer']].groupby('education_type').mean('cer').plot.bar()"
   ]
  },
  {
   "cell_type": "code",
   "execution_count": null,
   "metadata": {},
   "outputs": [],
   "source": []
  }
 ],
 "metadata": {
  "kernelspec": {
   "display_name": ".env",
   "language": "python",
   "name": "python3"
  },
  "language_info": {
   "codemirror_mode": {
    "name": "ipython",
    "version": 3
   },
   "file_extension": ".py",
   "mimetype": "text/x-python",
   "name": "python",
   "nbconvert_exporter": "python",
   "pygments_lexer": "ipython3",
   "version": "3.10.12"
  }
 },
 "nbformat": 4,
 "nbformat_minor": 2
}
