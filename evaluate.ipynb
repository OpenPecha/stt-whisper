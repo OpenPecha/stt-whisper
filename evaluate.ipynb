{
 "cells": [
  {
   "cell_type": "markdown",
   "metadata": {},
   "source": [
    "## Evaluation of STT models\n",
    "\n",
    "Load the benchmark dataset from huggingface"
   ]
  },
  {
   "cell_type": "code",
   "execution_count": 1,
   "metadata": {},
   "outputs": [],
   "source": [
    "from datasets import load_dataset\n",
    "import pandas as pd\n",
    "dataset = load_dataset(\"openpecha/tibetan-voice-benchmark-v2\")\n",
    "df = pd.DataFrame(dataset['test'])"
   ]
  },
  {
   "cell_type": "code",
   "execution_count": 2,
   "metadata": {},
   "outputs": [
    {
     "data": {
      "text/html": [
       "<div>\n",
       "<style scoped>\n",
       "    .dataframe tbody tr th:only-of-type {\n",
       "        vertical-align: middle;\n",
       "    }\n",
       "\n",
       "    .dataframe tbody tr th {\n",
       "        vertical-align: top;\n",
       "    }\n",
       "\n",
       "    .dataframe thead th {\n",
       "        text-align: right;\n",
       "    }\n",
       "</style>\n",
       "<table border=\"1\" class=\"dataframe\">\n",
       "  <thead>\n",
       "    <tr style=\"text-align: right;\">\n",
       "      <th></th>\n",
       "      <th>file_name</th>\n",
       "      <th>uni</th>\n",
       "      <th>wylie</th>\n",
       "      <th>url</th>\n",
       "      <th>dept</th>\n",
       "      <th>grade</th>\n",
       "      <th>char_len</th>\n",
       "      <th>audio_len</th>\n",
       "    </tr>\n",
       "  </thead>\n",
       "  <tbody>\n",
       "    <tr>\n",
       "      <th>0</th>\n",
       "      <td>STT_AB00075_0020_142095_to_143496</td>\n",
       "      <td>རྒན་རབས་ལ་གུས་ཞབས་ཆེ་ཞིང་།</td>\n",
       "      <td>rgan rabs la gus zhabs che zhing /_</td>\n",
       "      <td>https://d38pmlk0v88drf.cloudfront.net/wav/STT_...</td>\n",
       "      <td>STT_AB</td>\n",
       "      <td>3</td>\n",
       "      <td>27</td>\n",
       "      <td>1.401</td>\n",
       "    </tr>\n",
       "    <tr>\n",
       "      <th>1</th>\n",
       "      <td>STT_AB00066_0041_195100_to_196585</td>\n",
       "      <td>རྒྱུ་མཚན་ཤིན་ཏུ་མང་པོ་ཡོད་དེ།</td>\n",
       "      <td>rgyu mtshan shin tu mang po yod de/_</td>\n",
       "      <td>https://d38pmlk0v88drf.cloudfront.net/wav/STT_...</td>\n",
       "      <td>STT_AB</td>\n",
       "      <td>3</td>\n",
       "      <td>30</td>\n",
       "      <td>1.485</td>\n",
       "    </tr>\n",
       "    <tr>\n",
       "      <th>2</th>\n",
       "      <td>STT_AB00189_0045_166459_to_172448</td>\n",
       "      <td>དེ་ལྟར་ཡོངས་གྲགས་བྱས་ནས་གསུངས་པའི་ཐེག་དམན་ནམ་ཉ...</td>\n",
       "      <td>de ltar yongs grags byas nas gsungs pa'i theg ...</td>\n",
       "      <td>https://d38pmlk0v88drf.cloudfront.net/wav/STT_...</td>\n",
       "      <td>STT_AB</td>\n",
       "      <td>3</td>\n",
       "      <td>65</td>\n",
       "      <td>5.989</td>\n",
       "    </tr>\n",
       "    <tr>\n",
       "      <th>3</th>\n",
       "      <td>STT_AB00208_0075_398080_to_399889</td>\n",
       "      <td>བ་ཕྱུགས་སྟོང་ཕྲག་དེའི་འོ་མ་བཞོས་ནས་</td>\n",
       "      <td>ba phyugs stong phrag de'i 'o ma bzhos nas _</td>\n",
       "      <td>https://d38pmlk0v88drf.cloudfront.net/wav/STT_...</td>\n",
       "      <td>STT_AB</td>\n",
       "      <td>3</td>\n",
       "      <td>36</td>\n",
       "      <td>1.809</td>\n",
       "    </tr>\n",
       "    <tr>\n",
       "      <th>4</th>\n",
       "      <td>STT_AB00172_2108_7203899_to_7208813</td>\n",
       "      <td>མི་ཚངས་པར་སྤྱོད་དོ་ཞེས་པ་ལྟ་བུ་དམིགས་ཀྱིས་ཕྱེ་...</td>\n",
       "      <td>mi tshangs par spyod do zhes pa lta bu dmigs k...</td>\n",
       "      <td>https://d38pmlk0v88drf.cloudfront.net/wav/STT_...</td>\n",
       "      <td>STT_AB</td>\n",
       "      <td>3</td>\n",
       "      <td>61</td>\n",
       "      <td>4.914</td>\n",
       "    </tr>\n",
       "  </tbody>\n",
       "</table>\n",
       "</div>"
      ],
      "text/plain": [
       "                             file_name  \\\n",
       "0    STT_AB00075_0020_142095_to_143496   \n",
       "1    STT_AB00066_0041_195100_to_196585   \n",
       "2    STT_AB00189_0045_166459_to_172448   \n",
       "3    STT_AB00208_0075_398080_to_399889   \n",
       "4  STT_AB00172_2108_7203899_to_7208813   \n",
       "\n",
       "                                                 uni  \\\n",
       "0                        རྒན་རབས་ལ་གུས་ཞབས་ཆེ་ཞིང་།    \n",
       "1                     རྒྱུ་མཚན་ཤིན་ཏུ་མང་པོ་ཡོད་དེ།    \n",
       "2  དེ་ལྟར་ཡོངས་གྲགས་བྱས་ནས་གསུངས་པའི་ཐེག་དམན་ནམ་ཉ...   \n",
       "3               བ་ཕྱུགས་སྟོང་ཕྲག་དེའི་འོ་མ་བཞོས་ནས་    \n",
       "4  མི་ཚངས་པར་སྤྱོད་དོ་ཞེས་པ་ལྟ་བུ་དམིགས་ཀྱིས་ཕྱེ་...   \n",
       "\n",
       "                                               wylie  \\\n",
       "0                rgan rabs la gus zhabs che zhing /_   \n",
       "1               rgyu mtshan shin tu mang po yod de/_   \n",
       "2  de ltar yongs grags byas nas gsungs pa'i theg ...   \n",
       "3       ba phyugs stong phrag de'i 'o ma bzhos nas _   \n",
       "4  mi tshangs par spyod do zhes pa lta bu dmigs k...   \n",
       "\n",
       "                                                 url    dept  grade  char_len  \\\n",
       "0  https://d38pmlk0v88drf.cloudfront.net/wav/STT_...  STT_AB      3        27   \n",
       "1  https://d38pmlk0v88drf.cloudfront.net/wav/STT_...  STT_AB      3        30   \n",
       "2  https://d38pmlk0v88drf.cloudfront.net/wav/STT_...  STT_AB      3        65   \n",
       "3  https://d38pmlk0v88drf.cloudfront.net/wav/STT_...  STT_AB      3        36   \n",
       "4  https://d38pmlk0v88drf.cloudfront.net/wav/STT_...  STT_AB      3        61   \n",
       "\n",
       "   audio_len  \n",
       "0      1.401  \n",
       "1      1.485  \n",
       "2      5.989  \n",
       "3      1.809  \n",
       "4      4.914  "
      ]
     },
     "execution_count": 2,
     "metadata": {},
     "output_type": "execute_result"
    }
   ],
   "source": [
    "df.head()"
   ]
  },
  {
   "cell_type": "code",
   "execution_count": 3,
   "metadata": {},
   "outputs": [
    {
     "data": {
      "text/plain": [
       "(5367, 8)"
      ]
     },
     "execution_count": 3,
     "metadata": {},
     "output_type": "execute_result"
    }
   ],
   "source": [
    "df.shape"
   ]
  },
  {
   "cell_type": "code",
   "execution_count": 4,
   "metadata": {},
   "outputs": [
    {
     "data": {
      "text/plain": [
       "('https://d38pmlk0v88drf.cloudfront.net/wav/STT_AB00172_2352_8324991_to_8328011.wav',\n",
       " 'སྤྲིན་དཀར་ནག་གཉིས་ཀས་ནམ་མཁའ་ལ་བསྒྲིབས་པ་དང༌། ')"
      ]
     },
     "execution_count": 4,
     "metadata": {},
     "output_type": "execute_result"
    }
   ],
   "source": [
    "i = 124\n",
    "df.loc[i, 'url'], df.loc[i, 'uni']"
   ]
  },
  {
   "cell_type": "markdown",
   "metadata": {},
   "source": [
    "### An Example inference from different models"
   ]
  },
  {
   "cell_type": "code",
   "execution_count": 138,
   "metadata": {},
   "outputs": [
    {
     "name": "stdout",
     "output_type": "stream",
     "text": [
      "audio url https://d38pmlk0v88drf.cloudfront.net/wav/STT_AB00172_2352_8324991_to_8328011.wav\n",
      "ground truth སྤྲིན་དཀར་ནག་གཉིས་ཀས་ནམ་མཁའ་ལ་བསྒྲིབས་པ་དང༌། \n",
      "openpecha/wav2vec2_run8 སྤྲིན་དཀར་ནག་གཉིས་ཀའི་ནམ་མཁའ་ལ་བསྒྲིབ་པ་དང་།\n",
      "TenzinGayche/whisper-small-3 སྤྲིན་དཀར་ནག་གཉིས་ཀའི་ནམ་མཁའ་ལ་བསྒྲིབ་པ་དང་\n",
      "spsither/whipser-small-r3-aug སྤྲིན་དཀར་ནག་གཉིས་ཀའི་ནམ་མཁའ་ལ་བསྒྲིབས་པ་དང་༎དཀར་གནག་གསུམ་གྱི་ནང་མཐུན་པའམ༎དང་པོའོ༎སྤྲུལ་སྐུའུ་དམར་པོ་བཞིན༎བདག་དབང་དགའ་དགྲ་བདག་མཛད་ཀྱི༎བསྐོར༎རྒྱལ་བའང་དཀའ་བདུད་ཁྱབ༎བྱས་པ་དམིགས་པ་བསྟེན༎སྡུག་དཀྲོག་དཀོན་མཆོག་དཀོར་མཚམས༎ང་མངལ་དུ་བཞུགས༎ག་མདོག་དཔེ༎མཁྱུད་བསམ་དུ༎གཞན་དུ་དགར༎ཡུལ་དུ་མདོར༎འདི་ལ་དཀྱིལ་བར་བསྐོར་ལ༎བྲང་བར་དུའབང་༎བཞི༎དེ་ལ་མངའལ་བར་མདས༎\n",
      "spsither/whipser-small-r3-aug-length-penalty_n1 སྤྲིན་དཀར་ནག་གཉིས་ཀའི་ནམ་མཁའ་ལ་བསྒྲིབས་པ་དང་དང་པོའམབཟོས་པ་བཞིན་གཤེགས་པའང་བདུད་དང་བཅས་ཐམས་ཅད་ཀྱི་ནང་ལོགས་ལ་དམིགས་དཀའ་གནང་བར་དུ་དགའ་སྣང་བ་དང་དཔེ་དང་པར་དུ་བདག་ནི་བརྩེ་དགུ་དང་རྣམས་ལ་སོགས་ཁྱོད་ཀྱིས་བཞུགས་པར་བཟུང་བའོ༎\n"
     ]
    }
   ],
   "source": [
    "from transformers import pipeline\n",
    "import pyewts\n",
    "converter = pyewts.pyewts()\n",
    "\n",
    "print(\"audio url\", df.loc[i, 'url'])\n",
    "\n",
    "print(\"ground truth\", df.loc[i, 'uni'])\n",
    "\n",
    "generator = pipeline(model=\"openpecha/wav2vec2_run8\")\n",
    "opt = generator(df.loc[i, 'url'])\n",
    "inf = opt['text']\n",
    "print(\"openpecha/wav2vec2_run8\", inf)\n",
    "\n",
    "generator = pipeline(model=\"TenzinGayche/whisper-small-3\")\n",
    "opt = generator(df.loc[i, 'url'])\n",
    "inf = opt['text']\n",
    "print(\"TenzinGayche/whisper-small-3\", converter.toUnicode(inf))\n",
    "\n",
    "generator = pipeline(model=\"spsither/whipser-small-r3-aug\")\n",
    "opt = generator(df.loc[i, 'url'])\n",
    "inf = opt['text']\n",
    "print(\"spsither/whipser-small-r3-aug\", converter.toUnicode(inf))\n",
    "\n",
    "generator = pipeline(model=\"spsither/whipser-small-r3-aug-length-penalty_n1\")\n",
    "opt = generator(df.loc[i, 'url'])\n",
    "inf = opt['text']\n",
    "print(\"spsither/whipser-small-r3-aug-length-penalty_n1\", converter.toUnicode(inf))\n"
   ]
  },
  {
   "cell_type": "markdown",
   "metadata": {},
   "source": [
    "### Inference on all the benchmark data with the latest model"
   ]
  },
  {
   "cell_type": "code",
   "execution_count": 8,
   "metadata": {},
   "outputs": [
    {
     "data": {
      "application/vnd.jupyter.widget-view+json": {
       "model_id": "ecf317b41bd34483b4066becec0e8996",
       "version_major": 2,
       "version_minor": 0
      },
      "text/plain": [
       "  0%|          | 0/5367 [00:00<?, ?it/s]"
      ]
     },
     "metadata": {},
     "output_type": "display_data"
    }
   ],
   "source": [
    "from tqdm.auto import tqdm\n",
    "from transformers import pipeline\n",
    "\n",
    "generator = pipeline(model=\"openpecha/wav2vec2_run8\")\n",
    "# generator = pipeline(model=\"TenzinGayche/whisper-small-3\") \n",
    "predictions = []    \n",
    "\n",
    "for url in tqdm(dataset['test']['url']):\n",
    "    # print(url)\n",
    "    opt = generator(url)\n",
    "    predictions.append(opt[\"text\"])\n"
   ]
  },
  {
   "cell_type": "code",
   "execution_count": 9,
   "metadata": {},
   "outputs": [],
   "source": [
    "df['inf'] = predictions"
   ]
  },
  {
   "cell_type": "code",
   "execution_count": 10,
   "metadata": {},
   "outputs": [
    {
     "data": {
      "text/html": [
       "<div>\n",
       "<style scoped>\n",
       "    .dataframe tbody tr th:only-of-type {\n",
       "        vertical-align: middle;\n",
       "    }\n",
       "\n",
       "    .dataframe tbody tr th {\n",
       "        vertical-align: top;\n",
       "    }\n",
       "\n",
       "    .dataframe thead th {\n",
       "        text-align: right;\n",
       "    }\n",
       "</style>\n",
       "<table border=\"1\" class=\"dataframe\">\n",
       "  <thead>\n",
       "    <tr style=\"text-align: right;\">\n",
       "      <th></th>\n",
       "      <th>file_name</th>\n",
       "      <th>uni</th>\n",
       "      <th>wylie</th>\n",
       "      <th>url</th>\n",
       "      <th>dept</th>\n",
       "      <th>grade</th>\n",
       "      <th>char_len</th>\n",
       "      <th>audio_len</th>\n",
       "      <th>inf</th>\n",
       "    </tr>\n",
       "  </thead>\n",
       "  <tbody>\n",
       "    <tr>\n",
       "      <th>0</th>\n",
       "      <td>STT_AB00075_0020_142095_to_143496</td>\n",
       "      <td>རྒན་རབས་ལ་གུས་ཞབས་ཆེ་ཞིང་།</td>\n",
       "      <td>rgan rabs la gus zhabs che zhing /_</td>\n",
       "      <td>https://d38pmlk0v88drf.cloudfront.net/wav/STT_...</td>\n",
       "      <td>STT_AB</td>\n",
       "      <td>3</td>\n",
       "      <td>27</td>\n",
       "      <td>1.401</td>\n",
       "      <td>རྒྱལ་རབས་ལ་རགུས་ཞབས་ཆེ་ཞིང་།</td>\n",
       "    </tr>\n",
       "    <tr>\n",
       "      <th>1</th>\n",
       "      <td>STT_AB00066_0041_195100_to_196585</td>\n",
       "      <td>རྒྱུ་མཚན་ཤིན་ཏུ་མང་པོ་ཡོད་དེ།</td>\n",
       "      <td>rgyu mtshan shin tu mang po yod de/_</td>\n",
       "      <td>https://d38pmlk0v88drf.cloudfront.net/wav/STT_...</td>\n",
       "      <td>STT_AB</td>\n",
       "      <td>3</td>\n",
       "      <td>30</td>\n",
       "      <td>1.485</td>\n",
       "      <td>རྒྱུ་མཚན་ཤིན་ཏུ་མང་པོ་ཡོད་དེ་</td>\n",
       "    </tr>\n",
       "    <tr>\n",
       "      <th>2</th>\n",
       "      <td>STT_AB00189_0045_166459_to_172448</td>\n",
       "      <td>དེ་ལྟར་ཡོངས་གྲགས་བྱས་ནས་གསུངས་པའི་ཐེག་དམན་ནམ་ཉ...</td>\n",
       "      <td>de ltar yongs grags byas nas gsungs pa'i theg ...</td>\n",
       "      <td>https://d38pmlk0v88drf.cloudfront.net/wav/STT_...</td>\n",
       "      <td>STT_AB</td>\n",
       "      <td>3</td>\n",
       "      <td>65</td>\n",
       "      <td>5.989</td>\n",
       "      <td>དེ་ལྟར་ཡོང་རདགས་བྱས་ནས་གསུངས་པའི་ཐེ་དམན་རྣམས་ཉ...</td>\n",
       "    </tr>\n",
       "    <tr>\n",
       "      <th>3</th>\n",
       "      <td>STT_AB00208_0075_398080_to_399889</td>\n",
       "      <td>བ་ཕྱུགས་སྟོང་ཕྲག་དེའི་འོ་མ་བཞོས་ནས་</td>\n",
       "      <td>ba phyugs stong phrag de'i 'o ma bzhos nas _</td>\n",
       "      <td>https://d38pmlk0v88drf.cloudfront.net/wav/STT_...</td>\n",
       "      <td>STT_AB</td>\n",
       "      <td>3</td>\n",
       "      <td>36</td>\n",
       "      <td>1.809</td>\n",
       "      <td>བ་ཕྱུག་སྟོང་ཕྲག་དེ་འོ་མ་ཞོལ་ནས་</td>\n",
       "    </tr>\n",
       "    <tr>\n",
       "      <th>4</th>\n",
       "      <td>STT_AB00172_2108_7203899_to_7208813</td>\n",
       "      <td>མི་ཚངས་པར་སྤྱོད་དོ་ཞེས་པ་ལྟ་བུ་དམིགས་ཀྱིས་ཕྱེ་...</td>\n",
       "      <td>mi tshangs par spyod do zhes pa lta bu dmigs k...</td>\n",
       "      <td>https://d38pmlk0v88drf.cloudfront.net/wav/STT_...</td>\n",
       "      <td>STT_AB</td>\n",
       "      <td>3</td>\n",
       "      <td>61</td>\n",
       "      <td>4.914</td>\n",
       "      <td>མི་ཚངས་པར་སྤྱོད་དོ། ཞེས་པ་ལྟ་བུ་མིག་གིས་ཕྱེ་ནས...</td>\n",
       "    </tr>\n",
       "  </tbody>\n",
       "</table>\n",
       "</div>"
      ],
      "text/plain": [
       "                             file_name  \\\n",
       "0    STT_AB00075_0020_142095_to_143496   \n",
       "1    STT_AB00066_0041_195100_to_196585   \n",
       "2    STT_AB00189_0045_166459_to_172448   \n",
       "3    STT_AB00208_0075_398080_to_399889   \n",
       "4  STT_AB00172_2108_7203899_to_7208813   \n",
       "\n",
       "                                                 uni  \\\n",
       "0                        རྒན་རབས་ལ་གུས་ཞབས་ཆེ་ཞིང་།    \n",
       "1                     རྒྱུ་མཚན་ཤིན་ཏུ་མང་པོ་ཡོད་དེ།    \n",
       "2  དེ་ལྟར་ཡོངས་གྲགས་བྱས་ནས་གསུངས་པའི་ཐེག་དམན་ནམ་ཉ...   \n",
       "3               བ་ཕྱུགས་སྟོང་ཕྲག་དེའི་འོ་མ་བཞོས་ནས་    \n",
       "4  མི་ཚངས་པར་སྤྱོད་དོ་ཞེས་པ་ལྟ་བུ་དམིགས་ཀྱིས་ཕྱེ་...   \n",
       "\n",
       "                                               wylie  \\\n",
       "0                rgan rabs la gus zhabs che zhing /_   \n",
       "1               rgyu mtshan shin tu mang po yod de/_   \n",
       "2  de ltar yongs grags byas nas gsungs pa'i theg ...   \n",
       "3       ba phyugs stong phrag de'i 'o ma bzhos nas _   \n",
       "4  mi tshangs par spyod do zhes pa lta bu dmigs k...   \n",
       "\n",
       "                                                 url    dept  grade  char_len  \\\n",
       "0  https://d38pmlk0v88drf.cloudfront.net/wav/STT_...  STT_AB      3        27   \n",
       "1  https://d38pmlk0v88drf.cloudfront.net/wav/STT_...  STT_AB      3        30   \n",
       "2  https://d38pmlk0v88drf.cloudfront.net/wav/STT_...  STT_AB      3        65   \n",
       "3  https://d38pmlk0v88drf.cloudfront.net/wav/STT_...  STT_AB      3        36   \n",
       "4  https://d38pmlk0v88drf.cloudfront.net/wav/STT_...  STT_AB      3        61   \n",
       "\n",
       "   audio_len                                                inf  \n",
       "0      1.401                       རྒྱལ་རབས་ལ་རགུས་ཞབས་ཆེ་ཞིང་།  \n",
       "1      1.485                      རྒྱུ་མཚན་ཤིན་ཏུ་མང་པོ་ཡོད་དེ་  \n",
       "2      5.989  དེ་ལྟར་ཡོང་རདགས་བྱས་ནས་གསུངས་པའི་ཐེ་དམན་རྣམས་ཉ...  \n",
       "3      1.809                    བ་ཕྱུག་སྟོང་ཕྲག་དེ་འོ་མ་ཞོལ་ནས་  \n",
       "4      4.914  མི་ཚངས་པར་སྤྱོད་དོ། ཞེས་པ་ལྟ་བུ་མིག་གིས་ཕྱེ་ནས...  "
      ]
     },
     "execution_count": 10,
     "metadata": {},
     "output_type": "execute_result"
    }
   ],
   "source": [
    "df.head()"
   ]
  },
  {
   "cell_type": "code",
   "execution_count": null,
   "metadata": {},
   "outputs": [],
   "source": [
    "# import pyewts\n",
    "\n",
    "# converter = pyewts.pyewts()\n",
    "\n",
    "# def toUnicode(text):\n",
    "#     if type(text) == float:\n",
    "#         return None\n",
    "#     return converter.toUnicode(text)\n",
    "\n",
    "# df['inf'] = df['inf'].map(lambda x : toUnicode(x))"
   ]
  },
  {
   "cell_type": "code",
   "execution_count": 11,
   "metadata": {},
   "outputs": [],
   "source": [
    "from evaluate import load\n",
    "\n",
    "cer_metric = load(\"cer\")"
   ]
  },
  {
   "cell_type": "code",
   "execution_count": 12,
   "metadata": {},
   "outputs": [
    {
     "name": "stdout",
     "output_type": "stream",
     "text": [
      "རྒན་རབས་ལ་གུས་ཞབས་ཆེ་ཞིང་། \n",
      "རྒྱལ་རབས་ལ་རགུས་ཞབས་ཆེ་ཞིང་།\n",
      "0.11538461538461539\n"
     ]
    }
   ],
   "source": [
    "rand_index = 0\n",
    "print(df.loc[rand_index, 'uni'])\n",
    "print(df.loc[rand_index, 'inf'])\n",
    "cer = cer_metric.compute(references=[df.loc[rand_index, 'uni']], predictions=[df.loc[rand_index, 'inf']])\n",
    "\n",
    "print(cer)"
   ]
  },
  {
   "cell_type": "code",
   "execution_count": 13,
   "metadata": {},
   "outputs": [],
   "source": [
    "def calculate_cer(row):\n",
    "    try:\n",
    "        uni = row['uni']\n",
    "        inf_uni = row['inf']\n",
    "        cer = cer_metric.compute(references=[uni], predictions=[inf_uni])\n",
    "        cer = min(cer, 1.0)\n",
    "        return cer\n",
    "    except:\n",
    "        return 0.0"
   ]
  },
  {
   "cell_type": "code",
   "execution_count": 14,
   "metadata": {},
   "outputs": [],
   "source": [
    "df['cer'] = df.apply(lambda row: calculate_cer(row), axis=1)"
   ]
  },
  {
   "cell_type": "code",
   "execution_count": 15,
   "metadata": {},
   "outputs": [
    {
     "data": {
      "text/plain": [
       "count    5367.000000\n",
       "mean       42.506242\n",
       "std        18.495668\n",
       "min         1.000000\n",
       "25%        27.500000\n",
       "50%        41.000000\n",
       "75%        56.000000\n",
       "max       201.000000\n",
       "Name: inf, dtype: float64"
      ]
     },
     "execution_count": 15,
     "metadata": {},
     "output_type": "execute_result"
    }
   ],
   "source": [
    "df['inf'].str.len().describe()"
   ]
  },
  {
   "cell_type": "code",
   "execution_count": 16,
   "metadata": {},
   "outputs": [
    {
     "data": {
      "text/plain": [
       "count    5367.000000\n",
       "mean       42.506242\n",
       "std        18.495668\n",
       "min         1.000000\n",
       "25%        27.500000\n",
       "50%        41.000000\n",
       "75%        56.000000\n",
       "max       201.000000\n",
       "Name: inf, dtype: float64"
      ]
     },
     "execution_count": 16,
     "metadata": {},
     "output_type": "execute_result"
    }
   ],
   "source": [
    "df['inf'].str.len().describe()"
   ]
  },
  {
   "cell_type": "code",
   "execution_count": 17,
   "metadata": {},
   "outputs": [
    {
     "data": {
      "text/plain": [
       "count    5367.000000\n",
       "mean       42.506242\n",
       "std        18.495668\n",
       "min         1.000000\n",
       "25%        27.500000\n",
       "50%        41.000000\n",
       "75%        56.000000\n",
       "max       201.000000\n",
       "Name: inf, dtype: float64"
      ]
     },
     "execution_count": 17,
     "metadata": {},
     "output_type": "execute_result"
    }
   ],
   "source": [
    "df['inf'].str.len().describe()"
   ]
  },
  {
   "cell_type": "markdown",
   "metadata": {},
   "source": [
    "### The Average CER"
   ]
  },
  {
   "cell_type": "code",
   "execution_count": 18,
   "metadata": {},
   "outputs": [
    {
     "data": {
      "text/plain": [
       "0.2701019405540637"
      ]
     },
     "execution_count": 18,
     "metadata": {},
     "output_type": "execute_result"
    }
   ],
   "source": [
    "df['cer'].mean()"
   ]
  },
  {
   "cell_type": "markdown",
   "metadata": {},
   "source": [
    "### Department wise CER"
   ]
  },
  {
   "cell_type": "code",
   "execution_count": 21,
   "metadata": {},
   "outputs": [
    {
     "data": {
      "text/html": [
       "<div>\n",
       "<style scoped>\n",
       "    .dataframe tbody tr th:only-of-type {\n",
       "        vertical-align: middle;\n",
       "    }\n",
       "\n",
       "    .dataframe tbody tr th {\n",
       "        vertical-align: top;\n",
       "    }\n",
       "\n",
       "    .dataframe thead th {\n",
       "        text-align: right;\n",
       "    }\n",
       "</style>\n",
       "<table border=\"1\" class=\"dataframe\">\n",
       "  <thead>\n",
       "    <tr style=\"text-align: right;\">\n",
       "      <th></th>\n",
       "      <th>cer</th>\n",
       "    </tr>\n",
       "    <tr>\n",
       "      <th>dept</th>\n",
       "      <th></th>\n",
       "    </tr>\n",
       "  </thead>\n",
       "  <tbody>\n",
       "    <tr>\n",
       "      <th>STT_AB</th>\n",
       "      <td>0.040950</td>\n",
       "    </tr>\n",
       "    <tr>\n",
       "      <th>STT_CS</th>\n",
       "      <td>0.414452</td>\n",
       "    </tr>\n",
       "    <tr>\n",
       "      <th>STT_MV</th>\n",
       "      <td>0.420472</td>\n",
       "    </tr>\n",
       "    <tr>\n",
       "      <th>STT_NS</th>\n",
       "      <td>0.274328</td>\n",
       "    </tr>\n",
       "    <tr>\n",
       "      <th>STT_TT</th>\n",
       "      <td>0.147332</td>\n",
       "    </tr>\n",
       "  </tbody>\n",
       "</table>\n",
       "</div>"
      ],
      "text/plain": [
       "             cer\n",
       "dept            \n",
       "STT_AB  0.040950\n",
       "STT_CS  0.414452\n",
       "STT_MV  0.420472\n",
       "STT_NS  0.274328\n",
       "STT_TT  0.147332"
      ]
     },
     "execution_count": 21,
     "metadata": {},
     "output_type": "execute_result"
    }
   ],
   "source": [
    "df[['dept', 'cer']].groupby('dept').mean('cer').to_csv('cer.csv')\n",
    "df[['dept', 'cer']].groupby('dept').mean('cer')"
   ]
  },
  {
   "cell_type": "markdown",
   "metadata": {},
   "source": [
    "### If we take out MV"
   ]
  },
  {
   "cell_type": "code",
   "execution_count": 22,
   "metadata": {},
   "outputs": [
    {
     "data": {
      "text/plain": [
       "0.2356687226027591"
      ]
     },
     "execution_count": 22,
     "metadata": {},
     "output_type": "execute_result"
    }
   ],
   "source": [
    "df[df['dept'] != 'STT_MV']['cer'].mean()"
   ]
  },
  {
   "cell_type": "markdown",
   "metadata": {},
   "source": [
    "### Breakdown of CS\n",
    "\n",
    "https://github.com/MonlamAI/STT-template/blob/main/README.md"
   ]
  },
  {
   "cell_type": "code",
   "execution_count": 23,
   "metadata": {},
   "outputs": [],
   "source": [
    "df_cs = df[df['dept'] == 'STT_CS']"
   ]
  },
  {
   "cell_type": "code",
   "execution_count": 24,
   "metadata": {},
   "outputs": [],
   "source": [
    "file_name_correction = {\n",
    "    \"STT_CS-2013-P-D-B08-5-R-01_0007_44457_to_50532\" : \"STT_CS-D-2013-P-D-B08-5-R-01_0007_44457_to_50532\",\n",
    "    \"STT_CS-2013-P-D-B08-5-R-01_0042_289920_to_291996\" : \"STT_CS-D-2013-P-D-B08-5-R-01_0042_289920_to_291996\",\n",
    "    \"STT_CS-X2019_X2019-M_P-D_D-02##_02##-0_0-Y_Y-01a_0098_1365972_to_1368722\" : \"STT_CS-L-2019/2019-M/P-D/D-B02/B02-0/0-Y/Y-01a_0098_1365972_to_1368722\",\n",
    "    \"STT_CS-X2019_X2019-M_P-D_D-02##_02##-0_0-Y_Y-01b_0134_1844125_to_1849525\" : \"STT_CS-L-2019/2019-M/P-D/D-B02/B02-0/0-Y/Y-01b_0134_1844125_to_1849525\",\n",
    "    \"STT_CS-L-2018_2018_M_M-D_D-B05_B05-3_3-R_R-01B_0118_892189_to_899277\" : \"STT_CS-L-2018/2018-M/M-D/D-B05/B05-3/3-R/R-01B_0118_892189_to_899277\",\n",
    "    \"STT_CS-X2019_X2019-M_P-D_D-02##_02##-0_0-Y_Y-01c_0009_207925_to_212009\" : \"STT_CS-L-2019/2019-M/P-D/D-B02/B02-0/0-Y/Y-01c_0009_207925_to_212009\",\n",
    "    \"STT_CS-2013-P-D-B08-5-R-01_0074_513894_to_519842\" : \"STT_CS-D-2013-P-D-B08-5-R-01_0074_513894_to_519842\",\n",
    "    \"STT_CS-L-2018_2018_M_M-D_D-B05_B05-3_3-R_R-01B_0012_92112_to_100229\" : \"STT_CS-L-2018/2018-M/M-D/D-B05/B05-3/3-R/R-01B_0012_92112_to_100229\",\n",
    "    \"STT_CS-2013-P-D-B08-5-R-01_0075_519910_to_529146\" : \"STT_CS-D-2013-P-D-B08-5-R-01_0075_519910_to_529146\",\n",
    "    \"STT_CS-D-2014-MD-B02-3-R-04_0059_500764_to_510674\" : \"STT_CS-D-2014-M-D-B02-3-R-04_0059_500764_to_510674\",\n",
    "    \"STT_CS-L-2018_2018_M_M-D_D-B05_B05-3_3-R_R-01B_0051_386910_to_393921\" : \"STT_CS-L-2018/2018-M/M-D/D-B05/B05-3/3-R/R-01B_0051_386910_to_393921\",\n",
    "    \"STT_CS-X2019_X2019-M_P-D_D-02##_02##-0_0-Y_Y-01a_0076_1108999_to_1111919\" : \"STT_CS-L-2019/2019-M/P-D/D-B02/B02-0/0-Y/Y-01a_0076_1108999_to_1111919\",\n",
    "    \"STT_CS-X-D-2015-M-D-B03-3-R-01_0094_724975_to_731404\" : \"STT_CS-X-2015-M-D-B03-3-R-01_0094_724975_to_731404\",\n",
    "    \"STT_CS-D-2014-MD-B02-3-R-04_0025_206226_to_215603\" : \"STT_CS-D-2014-M-D-B02-3-R-04_0025_206226_to_215603\",\n",
    "    \"STT_CS-L-2018_2018_M_M-D_D-B05_B05-3_3-R_R-01B_0061_473520_to_476322\" : \"STT_CS-L-2018/2018-M/M-D/D-B05/B05-3/3-R/R-01B_0061_473520_to_476322\",\n",
    "    \"STT_CS-L-2018_2018_M_M-D_D-B05_B05-3_3-R_R-01B_0117_885102_to_892189\" : \"STT_CS-L-2018/2018-M/M-D/D-B05/B05-3/3-R/R-01B_0117_885102_to_892189\",\n",
    "    \"STT_CS-X2019_X2019-M_P-D_D-02##_02##-0_0-Y_Y-01b_0090_1032201_to_1039246\" : \"STT_CS-L-2019/2019-M/P-D/D-B02/B02-0/0-Y/Y-01b_0090_1032201_to_1039246\",\n",
    "    \"STT_CS-L-2018_2018_M_M-D_D-B05_B05-3_3-R_R-01B_0125_943962_to_950205\" : \"STT_CS-L-2018/2018-M/M-D/D-B05/B05-3/3-R/R-01B_0125_943962_to_950205\",\n",
    "    \"STT_CS-X2019_X2019-M_P-D_D-02##_02##-0_0-Y_Y-01c_0043_757282_to_762302\" : \"STT_CS-L-2019/2019-M/P-D/D-B02/B02-0/0-Y/Y-01c_0043_757282_to_762302\",\n",
    "    \"STT_CS-X2019_X2019-M_P-D_D-02##_02##-0_0-Y_Y-01c_0027_552377_to_557575\" : \"STT_CS-L-2019/2019-M/P-D/D-B02/B02-0/0-Y/Y-01c_0027_552377_to_557575\",\n",
    "    \"STT_CS-X2019_X2019-M_P-D_D-02##_02##-0_0-Y_Y-01c_0063_1041634_to_1050072\" : \"STT_CS-L-2019/2019-M/P-D/D-B02/B02-0/0-Y/Y-01c_0063_1041634_to_1050072\",\n",
    "    \"STT_CS-2013-P-D-B08-5-R-01_0012_79320_to_88112\" : \"STT_CS-D-2013-P-D-B08-5-R-01_0012_79320_to_88112\",\n",
    "    \"STT_CS-X2019_X2019-M_P-D_D-02##_02##-0_0-Y_Y-01b_0053_717449_to_724502\" : \"STT_CS-L-2019/2019-M/P-D/D-B02/B02-0/0-Y/Y-01b_0053_717449_to_724502\",\n",
    "    \"STT_CS-2013-P-D-B08-5-R-01_0086_624434_to_631074\" : \"STT_CS-D-2013-P-D-B08-5-R-01_0086_624434_to_631074\",\n",
    "    \"STT_CS-X2019_X2019-M_P-D_D-02##_02##-0_0-Y_Y-01a_0051_541122_to_543299\" : \"STT_CS-L-2019/2019-M/P-D/D-B02/B02-0/0-Y/Y-01a_0051_541122_to_543299\",\n",
    "    \"STT_CS-X2019_X2019-M_P-D_D-02##_02##-0_0-Y_Y-01b_0144_2043840_to_2049342\" : \"STT_CS-L-2019/2019-M/P-D/D-B02/B02-0/0-Y/Y-01b_0144_2043840_to_2049342\",\n",
    "    \"STT_CS-X2019_X2019-M_P-D_D-02##_02##-0_0-Y_Y-01b_0076_891801_to_895260\" : \"STT_CS-L-2019/2019-M/P-D/D-B02/B02-0/0-Y/Y-01b_0076_891801_to_895260\",\n",
    "    \"STT_CS-L-2018_2018_M_M-D_D-B05_B05-3_3-R_R-01B_0038_295557_to_300315\" : \"STT_CS-L-2018/2018-M/M-D/D-B05/B05-3/3-R/R-01B_0038_295557_to_300315\",\n",
    "    \"STT_CS-L-2018_2018_M_M-D_D-B05_B05-3_3-R_R-01B_0179_1424477_to_1431590\" : \"STT_CS-L-2018/2018-M/M-D/D-B05/B05-3/3-R/R-01B_0179_1424477_to_1431590\",\n",
    "    \"STT_CS-L-2018_2018_M_M-D_D-B05_B05-3_3-R_R-01B_0091_686356_to_692119\" : \"STT_CS-L-2018/2018-M/M-D/D-B05/B05-3/3-R/R-01B_0091_686356_to_692119\",\n",
    "    \"STT_CS-X2019_X2019-M_P-D_D-02##_02##-0_0-Y_Y-01c_0065_1056704_to_1060264\" : \"STT_CS-L-2019/2019-M/P-D/D-B02/B02-0/0-Y/Y-01c_0065_1056704_to_1060264\",\n",
    "    \"STT_CS-D-2014-MD-B02-3-R-04_0060_510674_to_520585\" : \"STT_CS-D-2014-M-D-B02-3-R-04_0060_510674_to_520585\",\n",
    "    \"STT_CS-X2019_X2019-M_P-D_D-02##_02##-0_0-Y_Y-01a_0031_347954_to_354265\" : \"STT_CS-L-2019/2019-M/P-D/D-B02/B02-0/0-Y/Y-01a_0031_347954_to_354265\",\n",
    "    \"STT_CS-X2019_X2019-M_P-D_D-02##_02##-0_0-Y_Y-01c_0086_1255457_to_1262595\" : \"STT_CS-L-2019/2019-M/P-D/D-B02/B02-0/0-Y/Y-01c_0086_1255457_to_1262595\",\n",
    "    \"STT_CS-D-2014-MD-B02-3-R-04_0011_86838_to_96195\" : \"STT_CS-D-2014-M-D-B02-3-R-04_0011_86838_to_96195\",\n",
    "    \"STT_CS-X2019_X2019-M_P-D_D-02##_02##-0_0-Y_Y-01a_0023_236545_to_240240\" : \"STT_CS-L-2019/2019-M/P-D/D-B02/B02-0/0-Y/Y-01a_0023_236545_to_240240\",\n",
    "    \"STT_CS-X2019_X2019-M_P-D_D-02##_02##-0_0-Y_Y-01e_0029_511827_to_513902\" : \"STT_CS-L-2019/2019-M/P-D/D-B02/B02-0/0-Y/Y-01e_0029_511827_to_513902\",\n",
    "    \"STT_CS-X-D-2015-M-D-B03-3-R-01_0120_910950_to_918615\" : \"STT_CS-X-2015-M-D-B03-3-R-01_0120_910950_to_918615\",\n",
    "    \"STT_CS-X-D-2015-M-D-B03-3-R-01_0112_857958_to_863130\" : \"STT_CS-X-2015-M-D-B03-3-R-01_0112_857958_to_863130\",\n",
    "    \"STT_CS-X2019_X2019-M_P-D_D-02##_02##-0_0-Y_Y-01b_0016_180233_to_182865\" : \"STT_CS-L-2019/2019-M/P-D/D-B02/B02-0/0-Y/Y-01b_0016_180233_to_182865\",\n",
    "    \"STT_CS-X2019_X2019-M_P-D_D-02##_02##-0_0-Y_Y-01b_0044_649881_to_653138\" : \"STT_CS-L-2019/2019-M/P-D/D-B02/B02-0/0-Y/Y-01b_0044_649881_to_653138\",\n",
    "    \"STT_CS-D-2014-MD-B02-3-R-04_0094_807696_to_817534\" : \"STT_CS-D-2014-M-D-B02-3-R-04_0094_807696_to_817534\",\n",
    "    \"STT_CS-X2019_X2019-M_P-D_D-02##_02##-0_0-Y_Y-01c_0104_1419330_to_1421777\" : \"STT_CS-L-2019/2019-M/P-D/D-B02/B02-0/0-Y/Y-01c_0104_1419330_to_1421777\",\n",
    "    \"STT_CS-X2019_X2019-M_P-D_D-02##_02##-0_0-Y_Y-01b_0129_1798326_to_1801954\" : \"STT_CS-L-2019/2019-M/P-D/D-B02/B02-0/0-Y/Y-01b_0129_1798326_to_1801954\",\n",
    "    \"STT_CS-X-D-2015-M-D-B03-3-R-01_0007_51274_to_53738\" : \"STT_CS-X-2015-M-D-B03-3-R-01_0007_51274_to_53738\",\n",
    "    \"STT_CS-X2019_X2019-M_P-D_D-02##_02##-0_0-Y_Y-01d_0011_139277_to_141741\" : \"STT_CS-L-2019/2019-M/P-D/D-B02/B02-0/0-Y/Y-01d_0011_139277_to_141741\",\n",
    "    \"STT_CS-2013-P-D-B08-5-R-01_0091_661812_to_670367\" : \"STT_CS-D-2013-P-D-B08-5-R-01_0091_661812_to_670367\"\n",
    "}"
   ]
  },
  {
   "cell_type": "code",
   "execution_count": 25,
   "metadata": {},
   "outputs": [
    {
     "name": "stdout",
     "output_type": "stream",
     "text": [
      "{'data_type': 'story-telling', 'birth_year': 2016, 'age': 7, 'gender': 'female', 'location': 'Dharamsala', 'education_type': 'B', 'education_years': 4, 'grade_level': 1, 'school_code': 'R'}\n",
      "{'data_type': 'non-designated', 'birth_year': 2014, 'age': 9, 'gender': 'female', 'location': 'Dharamsala', 'education_type': 'B', 'education_years': 2, 'grade_level': 4, 'school_code': 'R'}\n",
      "{'data_type': 'conversation', 'birth_year': 2014, 'age': 9, 'gender': 'male', 'location': 'Dharamsala', 'education_type': 'B', 'education_years': 3, 'grade_level': 5, 'school_code': 'R'}\n"
     ]
    }
   ],
   "source": [
    "def parse_cs_file_name(code):\n",
    "    \n",
    "    try:\n",
    "        if code in file_name_correction:\n",
    "            code = file_name_correction[code]\n",
    "        # Split the code into parts\n",
    "        parts = code.split('-')\n",
    "\n",
    "        # Decode each part of the code\n",
    "        \n",
    "        data_type = {'X': 'non-designated', 'D': 'story-telling', 'L':'conversation'}.get(parts[1], 'Unknown')\n",
    "        birth_year = parts[2][:4]\n",
    "        gender = {'P': 'male', 'M': 'female', 'X': 'other'}.get(parts[3][:1], 'Unknown')\n",
    "        location = {'D': 'Dharamsala', 'S': 'South India', 'L': 'Ladakh', 'N': 'Nepal'}.get(parts[4][:1], 'Unknown')\n",
    "        education_type = parts[5][0]\n",
    "        education_years = parts[5][1:3]\n",
    "        grade_level = parts[6][:1]\n",
    "        school_code = parts[7][:1]\n",
    "\n",
    "        # Create a dictionary with the decoded values\n",
    "        decoded = {\n",
    "            'data_type': data_type,\n",
    "            'birth_year': int(birth_year),\n",
    "            'age': 2023 - int(birth_year),\n",
    "            'gender': gender,\n",
    "            'location': location,\n",
    "            'education_type': education_type,\n",
    "            'education_years': int(education_years),\n",
    "            'grade_level': int(grade_level),\n",
    "            'school_code': school_code\n",
    "        }\n",
    "    except:\n",
    "        print(f'Error decoding {code}')\n",
    "        return {}\n",
    "    return decoded\n",
    "\n",
    "# Example usage\n",
    "codes = [\n",
    "    'STT_CS-D-2016-M-D-B04-1-R-06_0017_147090_to_156979',\n",
    "    'STT_CS-X-2014-M-D-B02-4-R-01_0110_1035711_to_1037787',\n",
    "    'STT_CS-L-2014/2014-P/P-D/D-B03/B06-5/5-R/R-01_0129_1106637_to_1112914.mp3',\n",
    "]\n",
    "\n",
    "for code in codes:\n",
    "    print(parse_cs_file_name(code))\n"
   ]
  },
  {
   "cell_type": "code",
   "execution_count": 26,
   "metadata": {},
   "outputs": [],
   "source": [
    "df_parsed = df_cs['file_name'].apply(lambda x: pd.Series(parse_cs_file_name(x)))\n",
    "df_cs = pd.concat([df_cs, df_parsed], axis=1)"
   ]
  },
  {
   "cell_type": "code",
   "execution_count": 27,
   "metadata": {},
   "outputs": [
    {
     "data": {
      "text/plain": [
       "Index(['file_name', 'uni', 'wylie', 'url', 'dept', 'grade', 'char_len',\n",
       "       'audio_len', 'inf', 'cer', 'data_type', 'birth_year', 'age', 'gender',\n",
       "       'location', 'education_type', 'education_years', 'grade_level',\n",
       "       'school_code'],\n",
       "      dtype='object')"
      ]
     },
     "execution_count": 27,
     "metadata": {},
     "output_type": "execute_result"
    }
   ],
   "source": [
    "df_cs.columns"
   ]
  },
  {
   "cell_type": "markdown",
   "metadata": {},
   "source": [
    "### Age"
   ]
  },
  {
   "cell_type": "code",
   "execution_count": 28,
   "metadata": {},
   "outputs": [
    {
     "data": {
      "text/html": [
       "<div>\n",
       "<style scoped>\n",
       "    .dataframe tbody tr th:only-of-type {\n",
       "        vertical-align: middle;\n",
       "    }\n",
       "\n",
       "    .dataframe tbody tr th {\n",
       "        vertical-align: top;\n",
       "    }\n",
       "\n",
       "    .dataframe thead th {\n",
       "        text-align: right;\n",
       "    }\n",
       "</style>\n",
       "<table border=\"1\" class=\"dataframe\">\n",
       "  <thead>\n",
       "    <tr style=\"text-align: right;\">\n",
       "      <th></th>\n",
       "      <th>cer</th>\n",
       "    </tr>\n",
       "    <tr>\n",
       "      <th>age</th>\n",
       "      <th></th>\n",
       "    </tr>\n",
       "  </thead>\n",
       "  <tbody>\n",
       "    <tr>\n",
       "      <th>5</th>\n",
       "      <td>0.512608</td>\n",
       "    </tr>\n",
       "    <tr>\n",
       "      <th>6</th>\n",
       "      <td>0.493220</td>\n",
       "    </tr>\n",
       "    <tr>\n",
       "      <th>7</th>\n",
       "      <td>0.395013</td>\n",
       "    </tr>\n",
       "    <tr>\n",
       "      <th>8</th>\n",
       "      <td>0.287877</td>\n",
       "    </tr>\n",
       "    <tr>\n",
       "      <th>9</th>\n",
       "      <td>0.264543</td>\n",
       "    </tr>\n",
       "    <tr>\n",
       "      <th>10</th>\n",
       "      <td>0.556650</td>\n",
       "    </tr>\n",
       "    <tr>\n",
       "      <th>11</th>\n",
       "      <td>0.435842</td>\n",
       "    </tr>\n",
       "    <tr>\n",
       "      <th>12</th>\n",
       "      <td>0.413880</td>\n",
       "    </tr>\n",
       "    <tr>\n",
       "      <th>13</th>\n",
       "      <td>0.443812</td>\n",
       "    </tr>\n",
       "  </tbody>\n",
       "</table>\n",
       "</div>"
      ],
      "text/plain": [
       "          cer\n",
       "age          \n",
       "5    0.512608\n",
       "6    0.493220\n",
       "7    0.395013\n",
       "8    0.287877\n",
       "9    0.264543\n",
       "10   0.556650\n",
       "11   0.435842\n",
       "12   0.413880\n",
       "13   0.443812"
      ]
     },
     "execution_count": 28,
     "metadata": {},
     "output_type": "execute_result"
    }
   ],
   "source": [
    "df_cs[['age', 'cer']].groupby('age').mean('cer')"
   ]
  },
  {
   "cell_type": "code",
   "execution_count": 29,
   "metadata": {},
   "outputs": [
    {
     "data": {
      "text/plain": [
       "<Axes: xlabel='age'>"
      ]
     },
     "execution_count": 29,
     "metadata": {},
     "output_type": "execute_result"
    },
    {
     "data": {
      "image/png": "[encoded data removed]",
      "text/plain": [
       "<Figure size 640x480 with 1 Axes>"
      ]
     },
     "metadata": {},
     "output_type": "display_data"
    }
   ],
   "source": [
    "df_cs[['age', 'cer']].groupby('age').mean('cer').plot()"
   ]
  },
  {
   "cell_type": "code",
   "execution_count": 30,
   "metadata": {},
   "outputs": [
    {
     "data": {
      "text/html": [
       "<div>\n",
       "<style scoped>\n",
       "    .dataframe tbody tr th:only-of-type {\n",
       "        vertical-align: middle;\n",
       "    }\n",
       "\n",
       "    .dataframe tbody tr th {\n",
       "        vertical-align: top;\n",
       "    }\n",
       "\n",
       "    .dataframe thead th {\n",
       "        text-align: right;\n",
       "    }\n",
       "</style>\n",
       "<table border=\"1\" class=\"dataframe\">\n",
       "  <thead>\n",
       "    <tr style=\"text-align: right;\">\n",
       "      <th></th>\n",
       "      <th>file_name</th>\n",
       "    </tr>\n",
       "    <tr>\n",
       "      <th>age</th>\n",
       "      <th></th>\n",
       "    </tr>\n",
       "  </thead>\n",
       "  <tbody>\n",
       "    <tr>\n",
       "      <th>5</th>\n",
       "      <td>118</td>\n",
       "    </tr>\n",
       "    <tr>\n",
       "      <th>6</th>\n",
       "      <td>221</td>\n",
       "    </tr>\n",
       "    <tr>\n",
       "      <th>7</th>\n",
       "      <td>230</td>\n",
       "    </tr>\n",
       "    <tr>\n",
       "      <th>8</th>\n",
       "      <td>98</td>\n",
       "    </tr>\n",
       "    <tr>\n",
       "      <th>9</th>\n",
       "      <td>143</td>\n",
       "    </tr>\n",
       "    <tr>\n",
       "      <th>10</th>\n",
       "      <td>13</td>\n",
       "    </tr>\n",
       "    <tr>\n",
       "      <th>11</th>\n",
       "      <td>195</td>\n",
       "    </tr>\n",
       "    <tr>\n",
       "      <th>12</th>\n",
       "      <td>232</td>\n",
       "    </tr>\n",
       "    <tr>\n",
       "      <th>13</th>\n",
       "      <td>117</td>\n",
       "    </tr>\n",
       "  </tbody>\n",
       "</table>\n",
       "</div>"
      ],
      "text/plain": [
       "     file_name\n",
       "age           \n",
       "5          118\n",
       "6          221\n",
       "7          230\n",
       "8           98\n",
       "9          143\n",
       "10          13\n",
       "11         195\n",
       "12         232\n",
       "13         117"
      ]
     },
     "execution_count": 30,
     "metadata": {},
     "output_type": "execute_result"
    }
   ],
   "source": [
    "df_cs[['age', 'file_name']].groupby('age').count()"
   ]
  },
  {
   "cell_type": "markdown",
   "metadata": {},
   "source": [
    "### Gender"
   ]
  },
  {
   "cell_type": "code",
   "execution_count": 31,
   "metadata": {},
   "outputs": [
    {
     "data": {
      "text/html": [
       "<div>\n",
       "<style scoped>\n",
       "    .dataframe tbody tr th:only-of-type {\n",
       "        vertical-align: middle;\n",
       "    }\n",
       "\n",
       "    .dataframe tbody tr th {\n",
       "        vertical-align: top;\n",
       "    }\n",
       "\n",
       "    .dataframe thead th {\n",
       "        text-align: right;\n",
       "    }\n",
       "</style>\n",
       "<table border=\"1\" class=\"dataframe\">\n",
       "  <thead>\n",
       "    <tr style=\"text-align: right;\">\n",
       "      <th></th>\n",
       "      <th>cer</th>\n",
       "    </tr>\n",
       "    <tr>\n",
       "      <th>gender</th>\n",
       "      <th></th>\n",
       "    </tr>\n",
       "  </thead>\n",
       "  <tbody>\n",
       "    <tr>\n",
       "      <th>female</th>\n",
       "      <td>0.410067</td>\n",
       "    </tr>\n",
       "    <tr>\n",
       "      <th>male</th>\n",
       "      <td>0.418498</td>\n",
       "    </tr>\n",
       "  </tbody>\n",
       "</table>\n",
       "</div>"
      ],
      "text/plain": [
       "             cer\n",
       "gender          \n",
       "female  0.410067\n",
       "male    0.418498"
      ]
     },
     "execution_count": 31,
     "metadata": {},
     "output_type": "execute_result"
    }
   ],
   "source": [
    "df_cs[['gender', 'cer']].groupby('gender').mean('cer')"
   ]
  },
  {
   "cell_type": "markdown",
   "metadata": {},
   "source": [
    "### Grade Level"
   ]
  },
  {
   "cell_type": "code",
   "execution_count": 32,
   "metadata": {},
   "outputs": [
    {
     "data": {
      "text/html": [
       "<div>\n",
       "<style scoped>\n",
       "    .dataframe tbody tr th:only-of-type {\n",
       "        vertical-align: middle;\n",
       "    }\n",
       "\n",
       "    .dataframe tbody tr th {\n",
       "        vertical-align: top;\n",
       "    }\n",
       "\n",
       "    .dataframe thead th {\n",
       "        text-align: right;\n",
       "    }\n",
       "</style>\n",
       "<table border=\"1\" class=\"dataframe\">\n",
       "  <thead>\n",
       "    <tr style=\"text-align: right;\">\n",
       "      <th></th>\n",
       "      <th>file_name</th>\n",
       "    </tr>\n",
       "    <tr>\n",
       "      <th>grade_level</th>\n",
       "      <th></th>\n",
       "    </tr>\n",
       "  </thead>\n",
       "  <tbody>\n",
       "    <tr>\n",
       "      <th>0</th>\n",
       "      <td>129</td>\n",
       "    </tr>\n",
       "    <tr>\n",
       "      <th>1</th>\n",
       "      <td>227</td>\n",
       "    </tr>\n",
       "    <tr>\n",
       "      <th>2</th>\n",
       "      <td>338</td>\n",
       "    </tr>\n",
       "    <tr>\n",
       "      <th>3</th>\n",
       "      <td>90</td>\n",
       "    </tr>\n",
       "    <tr>\n",
       "      <th>4</th>\n",
       "      <td>37</td>\n",
       "    </tr>\n",
       "    <tr>\n",
       "      <th>5</th>\n",
       "      <td>95</td>\n",
       "    </tr>\n",
       "    <tr>\n",
       "      <th>6</th>\n",
       "      <td>451</td>\n",
       "    </tr>\n",
       "  </tbody>\n",
       "</table>\n",
       "</div>"
      ],
      "text/plain": [
       "             file_name\n",
       "grade_level           \n",
       "0                  129\n",
       "1                  227\n",
       "2                  338\n",
       "3                   90\n",
       "4                   37\n",
       "5                   95\n",
       "6                  451"
      ]
     },
     "execution_count": 32,
     "metadata": {},
     "output_type": "execute_result"
    }
   ],
   "source": [
    "df_cs[['grade_level', 'file_name']].groupby('grade_level').count()"
   ]
  },
  {
   "cell_type": "code",
   "execution_count": 33,
   "metadata": {},
   "outputs": [
    {
     "data": {
      "text/plain": [
       "<Axes: xlabel='grade_level'>"
      ]
     },
     "execution_count": 33,
     "metadata": {},
     "output_type": "execute_result"
    },
    {
     "data": {
      "image/png": "[encoded data removed]",
      "text/plain": [
       "<Figure size 640x480 with 1 Axes>"
      ]
     },
     "metadata": {},
     "output_type": "display_data"
    }
   ],
   "source": [
    "df_cs[['grade_level', 'cer']].groupby('grade_level').mean('cer').plot()"
   ]
  },
  {
   "cell_type": "markdown",
   "metadata": {},
   "source": [
    "### School Code\n",
    "School Code is which school the subject's data was collected from\n",
    "* R = རྡ་སྟེང་བོད་ཁྱིམ་སློབ་གྲྭ\n",
    "* B = བོད་ཁྱིམ་ཉིན་མོའི་སློབ་གྲྭ\n",
    "* D = དྷ་ཤོད་བོད་ཁྱིམ་སློབ་གྲྭ\n",
    "* Y = ཡོངས་གླིང་སློབ་གྲྭ\n",
    "* P = སྤོན་ཊ་སློབ་གྲྭ\n",
    "* S = ཤེས་རབ་དགའ་ཚལ་སློབ་གླིང་།\n",
    "* M = མན་ཇུ་ཤི་རི།\n",
    "* G = གོ་པལ་པུར་སློབ་གྲྭ\n",
    "* T = སམ་བྷོ་ཊ་སློབ་གྲྭ\n",
    "* Z = སུ་ཇཱ་སློབ་གྲྭ\n",
    "* C = ཅོན་ཏ་ར་བོད་ཁྱིམ་སློབ་གྲྭ\n",
    "* K = རྒྱུད་སྟོད་གྲྭ་ཚང་།\n",
    "* N = རྣམ་རྒྱལ་གྲྭ་ཚང་།\n",
    "* A = ཤུག་གསེབ་ཨ་ནེའི་དགོན་པ།\n",
    "* L = དགེ་ལྡན་ཆོས་གླིང་།\n",
    "* X = མེད་པ།"
   ]
  },
  {
   "cell_type": "code",
   "execution_count": 34,
   "metadata": {},
   "outputs": [
    {
     "data": {
      "text/plain": [
       "<Axes: xlabel='school_code'>"
      ]
     },
     "execution_count": 34,
     "metadata": {},
     "output_type": "execute_result"
    },
    {
     "data": {
      "image/png": "[encoded data removed]",
      "text/plain": [
       "<Figure size 640x480 with 1 Axes>"
      ]
     },
     "metadata": {},
     "output_type": "display_data"
    }
   ],
   "source": [
    "df_cs[['school_code', 'cer']].groupby('school_code').mean('cer').plot.bar()"
   ]
  },
  {
   "cell_type": "code",
   "execution_count": 35,
   "metadata": {},
   "outputs": [
    {
     "data": {
      "text/html": [
       "<div>\n",
       "<style scoped>\n",
       "    .dataframe tbody tr th:only-of-type {\n",
       "        vertical-align: middle;\n",
       "    }\n",
       "\n",
       "    .dataframe tbody tr th {\n",
       "        vertical-align: top;\n",
       "    }\n",
       "\n",
       "    .dataframe thead th {\n",
       "        text-align: right;\n",
       "    }\n",
       "</style>\n",
       "<table border=\"1\" class=\"dataframe\">\n",
       "  <thead>\n",
       "    <tr style=\"text-align: right;\">\n",
       "      <th></th>\n",
       "      <th>cer</th>\n",
       "    </tr>\n",
       "    <tr>\n",
       "      <th>school_code</th>\n",
       "      <th></th>\n",
       "    </tr>\n",
       "  </thead>\n",
       "  <tbody>\n",
       "    <tr>\n",
       "      <th>0</th>\n",
       "      <td>7</td>\n",
       "    </tr>\n",
       "    <tr>\n",
       "      <th>B</th>\n",
       "      <td>41</td>\n",
       "    </tr>\n",
       "    <tr>\n",
       "      <th>K</th>\n",
       "      <td>10</td>\n",
       "    </tr>\n",
       "    <tr>\n",
       "      <th>R</th>\n",
       "      <td>1055</td>\n",
       "    </tr>\n",
       "    <tr>\n",
       "      <th>T</th>\n",
       "      <td>104</td>\n",
       "    </tr>\n",
       "    <tr>\n",
       "      <th>Y</th>\n",
       "      <td>100</td>\n",
       "    </tr>\n",
       "    <tr>\n",
       "      <th>r</th>\n",
       "      <td>50</td>\n",
       "    </tr>\n",
       "  </tbody>\n",
       "</table>\n",
       "</div>"
      ],
      "text/plain": [
       "              cer\n",
       "school_code      \n",
       "0               7\n",
       "B              41\n",
       "K              10\n",
       "R            1055\n",
       "T             104\n",
       "Y             100\n",
       "r              50"
      ]
     },
     "execution_count": 35,
     "metadata": {},
     "output_type": "execute_result"
    }
   ],
   "source": [
    "df_cs[['school_code', 'cer']].groupby('school_code').count()"
   ]
  },
  {
   "cell_type": "markdown",
   "metadata": {},
   "source": [
    "### Education Years"
   ]
  },
  {
   "cell_type": "code",
   "execution_count": 36,
   "metadata": {},
   "outputs": [
    {
     "data": {
      "text/html": [
       "<div>\n",
       "<style scoped>\n",
       "    .dataframe tbody tr th:only-of-type {\n",
       "        vertical-align: middle;\n",
       "    }\n",
       "\n",
       "    .dataframe tbody tr th {\n",
       "        vertical-align: top;\n",
       "    }\n",
       "\n",
       "    .dataframe thead th {\n",
       "        text-align: right;\n",
       "    }\n",
       "</style>\n",
       "<table border=\"1\" class=\"dataframe\">\n",
       "  <thead>\n",
       "    <tr style=\"text-align: right;\">\n",
       "      <th></th>\n",
       "      <th>cer</th>\n",
       "    </tr>\n",
       "    <tr>\n",
       "      <th>education_years</th>\n",
       "      <th></th>\n",
       "    </tr>\n",
       "  </thead>\n",
       "  <tbody>\n",
       "    <tr>\n",
       "      <th>1</th>\n",
       "      <td>245</td>\n",
       "    </tr>\n",
       "    <tr>\n",
       "      <th>2</th>\n",
       "      <td>269</td>\n",
       "    </tr>\n",
       "    <tr>\n",
       "      <th>3</th>\n",
       "      <td>218</td>\n",
       "    </tr>\n",
       "    <tr>\n",
       "      <th>4</th>\n",
       "      <td>69</td>\n",
       "    </tr>\n",
       "    <tr>\n",
       "      <th>5</th>\n",
       "      <td>214</td>\n",
       "    </tr>\n",
       "    <tr>\n",
       "      <th>6</th>\n",
       "      <td>101</td>\n",
       "    </tr>\n",
       "    <tr>\n",
       "      <th>7</th>\n",
       "      <td>97</td>\n",
       "    </tr>\n",
       "    <tr>\n",
       "      <th>8</th>\n",
       "      <td>62</td>\n",
       "    </tr>\n",
       "    <tr>\n",
       "      <th>9</th>\n",
       "      <td>92</td>\n",
       "    </tr>\n",
       "  </tbody>\n",
       "</table>\n",
       "</div>"
      ],
      "text/plain": [
       "                 cer\n",
       "education_years     \n",
       "1                245\n",
       "2                269\n",
       "3                218\n",
       "4                 69\n",
       "5                214\n",
       "6                101\n",
       "7                 97\n",
       "8                 62\n",
       "9                 92"
      ]
     },
     "execution_count": 36,
     "metadata": {},
     "output_type": "execute_result"
    }
   ],
   "source": [
    "df_cs[['education_years', 'cer']].groupby('education_years').count()"
   ]
  },
  {
   "cell_type": "code",
   "execution_count": 37,
   "metadata": {},
   "outputs": [
    {
     "data": {
      "text/plain": [
       "<Axes: xlabel='education_years'>"
      ]
     },
     "execution_count": 37,
     "metadata": {},
     "output_type": "execute_result"
    },
    {
     "data": {
      "image/png": "[encoded data removed]",
      "text/plain": [
       "<Figure size 640x480 with 1 Axes>"
      ]
     },
     "metadata": {},
     "output_type": "display_data"
    }
   ],
   "source": [
    "df_cs[['education_years', 'cer']].groupby('education_years').mean('cer').plot()"
   ]
  },
  {
   "cell_type": "markdown",
   "metadata": {},
   "source": [
    "### Education Type"
   ]
  },
  {
   "cell_type": "code",
   "execution_count": 38,
   "metadata": {},
   "outputs": [
    {
     "data": {
      "text/plain": [
       "<Axes: xlabel='education_type'>"
      ]
     },
     "execution_count": 38,
     "metadata": {},
     "output_type": "execute_result"
    },
    {
     "data": {
      "image/png": "[encoded data removed]",
      "text/plain": [
       "<Figure size 640x480 with 1 Axes>"
      ]
     },
     "metadata": {},
     "output_type": "display_data"
    }
   ],
   "source": [
    "df_cs[['education_type', 'cer']].groupby('education_type').mean('cer').plot.bar()"
   ]
  },
  {
   "cell_type": "code",
   "execution_count": 39,
   "metadata": {},
   "outputs": [
    {
     "data": {
      "text/html": [
       "<div>\n",
       "<style scoped>\n",
       "    .dataframe tbody tr th:only-of-type {\n",
       "        vertical-align: middle;\n",
       "    }\n",
       "\n",
       "    .dataframe tbody tr th {\n",
       "        vertical-align: top;\n",
       "    }\n",
       "\n",
       "    .dataframe thead th {\n",
       "        text-align: right;\n",
       "    }\n",
       "</style>\n",
       "<table border=\"1\" class=\"dataframe\">\n",
       "  <thead>\n",
       "    <tr style=\"text-align: right;\">\n",
       "      <th></th>\n",
       "      <th>cer</th>\n",
       "    </tr>\n",
       "    <tr>\n",
       "      <th>education_type</th>\n",
       "      <th></th>\n",
       "    </tr>\n",
       "  </thead>\n",
       "  <tbody>\n",
       "    <tr>\n",
       "      <th>B</th>\n",
       "      <td>1357</td>\n",
       "    </tr>\n",
       "    <tr>\n",
       "      <th>G</th>\n",
       "      <td>10</td>\n",
       "    </tr>\n",
       "  </tbody>\n",
       "</table>\n",
       "</div>"
      ],
      "text/plain": [
       "                 cer\n",
       "education_type      \n",
       "B               1357\n",
       "G                 10"
      ]
     },
     "execution_count": 39,
     "metadata": {},
     "output_type": "execute_result"
    }
   ],
   "source": [
    "df_cs[['education_type', 'cer']].groupby('education_type').count()"
   ]
  },
  {
   "cell_type": "code",
   "execution_count": 41,
   "metadata": {},
   "outputs": [
    {
     "name": "stdout",
     "output_type": "stream",
     "text": [
      "Running on local URL:  http://127.0.0.1:7861\n",
      "\n",
      "To create a public link, set `share=True` in `launch()`.\n"
     ]
    },
    {
     "data": {
      "text/html": [
       "<div><iframe src=\"http://127.0.0.1:7861/\" width=\"100%\" height=\"500\" allow=\"autoplay; camera; microphone; clipboard-read; clipboard-write;\" frameborder=\"0\" allowfullscreen></iframe></div>"
      ],
      "text/plain": [
       "<IPython.core.display.HTML object>"
      ]
     },
     "metadata": {},
     "output_type": "display_data"
    },
    {
     "data": {
      "text/plain": []
     },
     "execution_count": 41,
     "metadata": {},
     "output_type": "execute_result"
    }
   ],
   "source": [
    "from transformers import pipeline\n",
    "import gradio as gr\n",
    "\n",
    "pipe = pipeline(model=\"openpecha/wav2vec2_run8\")  # change to \"your-username/the-name-you-picked\"\n",
    "\n",
    "def transcribe(audio):\n",
    "    text = pipe(audio)[\"text\"]\n",
    "    return text\n",
    "\n",
    "iface = gr.Interface(\n",
    "    fn=transcribe,\n",
    "    inputs=gr.Audio(source=\"microphone\", type=\"filepath\"),\n",
    "    outputs=\"text\",\n",
    "    title=\"Whisper Large Tibetan\",\n",
    "    description=\"Realtime demo for Tibetan speech recognition using a fine-tuned Whisper medium model.\",\n",
    ")\n",
    "\n",
    "iface.launch()"
   ]
  },
  {
   "cell_type": "markdown",
   "metadata": {},
   "source": [
    "### Analyse more in stt.pecha.tools"
   ]
  },
  {
   "cell_type": "code",
   "execution_count": 42,
   "metadata": {},
   "outputs": [],
   "source": [
    "df_cs['transcript'] = df_cs['inf']\n",
    "df_cs['reviewed_transcript'] = df_cs['uni']\n",
    "df_cs['inference_transcript'] = ''\n",
    "df_cs['group_id'] = 1\n",
    "df_cs['state'] = \"accepted\"\n",
    "df_cs['audio_duration'] = df_cs['cer']\n",
    "df_cs['transcriber_id'] = 1\n",
    "df_cs['reviewer_id'] = 2\n",
    "df_cs['final_reviewer_id'] = 3\n"
   ]
  },
  {
   "cell_type": "code",
   "execution_count": 43,
   "metadata": {},
   "outputs": [
    {
     "data": {
      "text/plain": [
       "(3, 28)"
      ]
     },
     "execution_count": 43,
     "metadata": {},
     "output_type": "execute_result"
    }
   ],
   "source": [
    "df_cs[df_cs['cer'] > 0.9].shape"
   ]
  },
  {
   "cell_type": "code",
   "execution_count": 44,
   "metadata": {},
   "outputs": [],
   "source": [
    "# df[df['cer'] > 0.9][['url', 'uni', 'inf', 'cer']].to_csv('cer-0.9.tsv', sep='\\t', index=False)\n",
    "\n",
    "df_cs[df_cs['cer'] > 0.9][['file_name','url','inference_transcript','transcript','reviewed_transcript','audio_duration','group_id','state','transcriber_id','reviewer_id','final_reviewer_id']].to_csv('cer-0.9.csv')"
   ]
  },
  {
   "cell_type": "code",
   "execution_count": 45,
   "metadata": {},
   "outputs": [],
   "source": [
    "df_cs[df_cs['cer'] > 0.8]['file_name'].to_csv('cer-0.9.txt', index=False)"
   ]
  },
  {
   "cell_type": "code",
   "execution_count": 46,
   "metadata": {},
   "outputs": [],
   "source": [
    "df_cs[df_cs['cer'] > 0.8][['file_name','url','transcript','reviewed_transcript']].to_csv('cer-0.9.csv')"
   ]
  },
  {
   "cell_type": "code",
   "execution_count": 47,
   "metadata": {},
   "outputs": [],
   "source": [
    "df_cs[df_cs['cer'] < 0.1][['url', 'uni', 'inf', 'cer']].to_csv('cer-0.1.tsv', sep='\\t', index=False)"
   ]
  },
  {
   "cell_type": "code",
   "execution_count": 48,
   "metadata": {},
   "outputs": [
    {
     "data": {
      "text/html": [
       "<div>\n",
       "<style scoped>\n",
       "    .dataframe tbody tr th:only-of-type {\n",
       "        vertical-align: middle;\n",
       "    }\n",
       "\n",
       "    .dataframe tbody tr th {\n",
       "        vertical-align: top;\n",
       "    }\n",
       "\n",
       "    .dataframe thead th {\n",
       "        text-align: right;\n",
       "    }\n",
       "</style>\n",
       "<table border=\"1\" class=\"dataframe\">\n",
       "  <thead>\n",
       "    <tr style=\"text-align: right;\">\n",
       "      <th></th>\n",
       "      <th>file_name</th>\n",
       "      <th>uni</th>\n",
       "      <th>wylie</th>\n",
       "      <th>url</th>\n",
       "      <th>dept</th>\n",
       "      <th>grade</th>\n",
       "      <th>char_len</th>\n",
       "      <th>audio_len</th>\n",
       "      <th>inf</th>\n",
       "      <th>cer</th>\n",
       "      <th>...</th>\n",
       "      <th>school_code</th>\n",
       "      <th>transcript</th>\n",
       "      <th>reviewed_transcript</th>\n",
       "      <th>inference_transcript</th>\n",
       "      <th>group_id</th>\n",
       "      <th>state</th>\n",
       "      <th>audio_duration</th>\n",
       "      <th>transcriber_id</th>\n",
       "      <th>reviewer_id</th>\n",
       "      <th>final_reviewer_id</th>\n",
       "    </tr>\n",
       "  </thead>\n",
       "  <tbody>\n",
       "  </tbody>\n",
       "</table>\n",
       "<p>0 rows × 28 columns</p>\n",
       "</div>"
      ],
      "text/plain": [
       "Empty DataFrame\n",
       "Columns: [file_name, uni, wylie, url, dept, grade, char_len, audio_len, inf, cer, data_type, birth_year, age, gender, location, education_type, education_years, grade_level, school_code, transcript, reviewed_transcript, inference_transcript, group_id, state, audio_duration, transcriber_id, reviewer_id, final_reviewer_id]\n",
       "Index: []\n",
       "\n",
       "[0 rows x 28 columns]"
      ]
     },
     "execution_count": 48,
     "metadata": {},
     "output_type": "execute_result"
    }
   ],
   "source": [
    "df_cs[df_cs['file_name'].isin([\n",
    "    'STT_TT00144_01232.950-01234.050',\n",
    "    \n",
    "    'STT_CS-D-2014-M-D-B01-3-R-03_0019_136172_to_139547',\n",
    "    'STT_CS-L-2017_2017-P_P-D_D-B01_B01-1_1-R_R-03_0139_1611503_to_1621020',\n",
    "    'STT_CS-D-2012-P-D-B04-5-R-01_0086_736163_to_745697',\n",
    "    \n",
    "    'STT_AB00233_0315_3763228_to_3772352',\n",
    "    'STT_AB00250_0191_1536177_to_1548643',\n",
    "    'STT_AB00255_0197_1588506_to_1600406'\n",
    "    \n",
    "    'STT_MV0081_0176_1408521_to_1412238',\n",
    "    'STT_MV0008_0130_957881_to_967209',\n",
    "])]"
   ]
  }
 ],
 "metadata": {
  "kernelspec": {
   "display_name": ".env",
   "language": "python",
   "name": "python3"
  },
  "language_info": {
   "codemirror_mode": {
    "name": "ipython",
    "version": 3
   },
   "file_extension": ".py",
   "mimetype": "text/x-python",
   "name": "python",
   "nbconvert_exporter": "python",
   "pygments_lexer": "ipython3",
   "version": "3.10.12"
  }
 },
 "nbformat": 4,
 "nbformat_minor": 2
}
