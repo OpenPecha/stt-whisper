{
 "cells": [
  {
   "cell_type": "code",
   "execution_count": 1,
   "metadata": {},
   "outputs": [],
   "source": [
    "from datasets import load_dataset, DatasetDict, load_from_disk\n",
    "\n",
    "common_voice = DatasetDict()\n",
    "\n",
    "common_voice = load_from_disk(\"/media/monlamai/SSD/whisper_small_r3_Dec7_prepare_dataset\")"
   ]
  },
  {
   "cell_type": "code",
   "execution_count": 2,
   "metadata": {},
   "outputs": [
    {
     "data": {
      "text/plain": [
       "DatasetDict({\n",
       "    train: Dataset({\n",
       "        features: ['input_features', 'labels'],\n",
       "        num_rows: 722830\n",
       "    })\n",
       "    test: Dataset({\n",
       "        features: ['input_features', 'labels'],\n",
       "        num_rows: 40153\n",
       "    })\n",
       "})"
      ]
     },
     "execution_count": 2,
     "metadata": {},
     "output_type": "execute_result"
    }
   ],
   "source": [
    "common_voice"
   ]
  },
  {
   "cell_type": "code",
   "execution_count": 3,
   "metadata": {},
   "outputs": [],
   "source": [
    "max_label_length = 448\n",
    "\n",
    "def filter_labels(labels_length):\n",
    "    \"\"\"Filter label sequences longer than max length (448)\"\"\"\n",
    "    return len(labels_length) < max_label_length"
   ]
  },
  {
   "cell_type": "code",
   "execution_count": 4,
   "metadata": {},
   "outputs": [
    {
     "data": {
      "application/vnd.jupyter.widget-view+json": {
       "model_id": "f5354ac0be1f442fb41ed2a64cdd641b",
       "version_major": 2,
       "version_minor": 0
      },
      "text/plain": [
       "Filter:   0%|          | 0/722830 [00:00<?, ? examples/s]"
      ]
     },
     "metadata": {},
     "output_type": "display_data"
    },
    {
     "data": {
      "application/vnd.jupyter.widget-view+json": {
       "model_id": "7f86f33fc24b4a8d9c46a9f2b19ba5dc",
       "version_major": 2,
       "version_minor": 0
      },
      "text/plain": [
       "Filter:   0%|          | 0/40153 [00:00<?, ? examples/s]"
      ]
     },
     "metadata": {},
     "output_type": "display_data"
    }
   ],
   "source": [
    "common_voice['train'] = common_voice['train'].filter(filter_labels, input_columns=[\"labels\"])\n",
    "common_voice['test'] = common_voice['test'].filter(filter_labels, input_columns=[\"labels\"])"
   ]
  },
  {
   "cell_type": "code",
   "execution_count": 5,
   "metadata": {},
   "outputs": [
    {
     "data": {
      "text/plain": [
       "DatasetDict({\n",
       "    train: Dataset({\n",
       "        features: ['input_features', 'labels'],\n",
       "        num_rows: 722829\n",
       "    })\n",
       "    test: Dataset({\n",
       "        features: ['input_features', 'labels'],\n",
       "        num_rows: 40153\n",
       "    })\n",
       "})"
      ]
     },
     "execution_count": 5,
     "metadata": {},
     "output_type": "execute_result"
    }
   ],
   "source": [
    "common_voice"
   ]
  },
  {
   "cell_type": "code",
   "execution_count": 6,
   "metadata": {},
   "outputs": [
    {
     "data": {
      "application/vnd.jupyter.widget-view+json": {
       "model_id": "d4903563b7ca4ccb9180a2ad4d7344ba",
       "version_major": 2,
       "version_minor": 0
      },
      "text/plain": [
       "Saving the dataset (0/1389 shards):   0%|          | 0/722829 [00:00<?, ? examples/s]"
      ]
     },
     "metadata": {},
     "output_type": "display_data"
    },
    {
     "ename": "OSError",
     "evalue": "[Errno 28] No space left on device",
     "output_type": "error",
     "traceback": [
      "\u001b[0;31m---------------------------------------------------------------------------\u001b[0m",
      "\u001b[0;31mOSError\u001b[0m                                   Traceback (most recent call last)",
      "File \u001b[0;32m~/Documents/GitHub/stt-whisper/.env/lib/python3.10/site-packages/datasets/arrow_dataset.py:1564\u001b[0m, in \u001b[0;36mDataset._save_to_disk_single\u001b[0;34m(job_id, shard, fpath, storage_options)\u001b[0m\n\u001b[1;32m   1563\u001b[0m \u001b[39mfor\u001b[39;00m pa_table \u001b[39min\u001b[39;00m shard\u001b[39m.\u001b[39mwith_format(\u001b[39m\"\u001b[39m\u001b[39marrow\u001b[39m\u001b[39m\"\u001b[39m)\u001b[39m.\u001b[39miter(batch_size):\n\u001b[0;32m-> 1564\u001b[0m     writer\u001b[39m.\u001b[39;49mwrite_table(pa_table)\n\u001b[1;32m   1565\u001b[0m     num_examples_progress_update \u001b[39m+\u001b[39m\u001b[39m=\u001b[39m \u001b[39mlen\u001b[39m(pa_table)\n",
      "File \u001b[0;32m~/Documents/GitHub/stt-whisper/.env/lib/python3.10/site-packages/datasets/arrow_writer.py:577\u001b[0m, in \u001b[0;36mArrowWriter.write_table\u001b[0;34m(self, pa_table, writer_batch_size)\u001b[0m\n\u001b[1;32m    576\u001b[0m \u001b[39mself\u001b[39m\u001b[39m.\u001b[39m_num_examples \u001b[39m+\u001b[39m\u001b[39m=\u001b[39m pa_table\u001b[39m.\u001b[39mnum_rows\n\u001b[0;32m--> 577\u001b[0m \u001b[39mself\u001b[39;49m\u001b[39m.\u001b[39;49mpa_writer\u001b[39m.\u001b[39;49mwrite_table(pa_table, writer_batch_size)\n",
      "File \u001b[0;32m~/Documents/GitHub/stt-whisper/.env/lib/python3.10/site-packages/pyarrow/ipc.pxi:525\u001b[0m, in \u001b[0;36mpyarrow.lib._CRecordBatchWriter.write_table\u001b[0;34m()\u001b[0m\n",
      "File \u001b[0;32m~/Documents/GitHub/stt-whisper/.env/lib/python3.10/site-packages/fsspec/implementations/local.py:382\u001b[0m, in \u001b[0;36mLocalFileOpener.write\u001b[0;34m(self, *args, **kwargs)\u001b[0m\n\u001b[1;32m    381\u001b[0m \u001b[39mdef\u001b[39;00m \u001b[39mwrite\u001b[39m(\u001b[39mself\u001b[39m, \u001b[39m*\u001b[39margs, \u001b[39m*\u001b[39m\u001b[39m*\u001b[39mkwargs):\n\u001b[0;32m--> 382\u001b[0m     \u001b[39mreturn\u001b[39;00m \u001b[39mself\u001b[39;49m\u001b[39m.\u001b[39;49mf\u001b[39m.\u001b[39;49mwrite(\u001b[39m*\u001b[39;49margs, \u001b[39m*\u001b[39;49m\u001b[39m*\u001b[39;49mkwargs)\n",
      "\u001b[0;31mOSError\u001b[0m: [Errno 28] No space left on device",
      "\nDuring handling of the above exception, another exception occurred:\n",
      "\u001b[0;31mOSError\u001b[0m                                   Traceback (most recent call last)",
      "\u001b[1;32m/home/monlamai/Documents/GitHub/stt-whisper/test_prepare_dataset_length.ipynb Cell 6\u001b[0m line \u001b[0;36m1\n\u001b[0;32m----> <a href='vscode-notebook-cell:/home/monlamai/Documents/GitHub/stt-whisper/test_prepare_dataset_length.ipynb#W5sZmlsZQ%3D%3D?line=0'>1</a>\u001b[0m common_voice\u001b[39m.\u001b[39;49msave_to_disk(\u001b[39m'\u001b[39;49m\u001b[39m/media/monlamai/SSD/whisper_small_r3_Dec7_prepare_dataset_filtered\u001b[39;49m\u001b[39m'\u001b[39;49m)\n",
      "File \u001b[0;32m~/Documents/GitHub/stt-whisper/.env/lib/python3.10/site-packages/datasets/dataset_dict.py:1279\u001b[0m, in \u001b[0;36mDatasetDict.save_to_disk\u001b[0;34m(self, dataset_dict_path, fs, max_shard_size, num_shards, num_proc, storage_options)\u001b[0m\n\u001b[1;32m   1277\u001b[0m     json\u001b[39m.\u001b[39mdump({\u001b[39m\"\u001b[39m\u001b[39msplits\u001b[39m\u001b[39m\"\u001b[39m: \u001b[39mlist\u001b[39m(\u001b[39mself\u001b[39m)}, f)\n\u001b[1;32m   1278\u001b[0m \u001b[39mfor\u001b[39;00m k, dataset \u001b[39min\u001b[39;00m \u001b[39mself\u001b[39m\u001b[39m.\u001b[39mitems():\n\u001b[0;32m-> 1279\u001b[0m     dataset\u001b[39m.\u001b[39;49msave_to_disk(\n\u001b[1;32m   1280\u001b[0m         path_join(dataset_dict_path, k),\n\u001b[1;32m   1281\u001b[0m         num_shards\u001b[39m=\u001b[39;49mnum_shards\u001b[39m.\u001b[39;49mget(k),\n\u001b[1;32m   1282\u001b[0m         max_shard_size\u001b[39m=\u001b[39;49mmax_shard_size,\n\u001b[1;32m   1283\u001b[0m         num_proc\u001b[39m=\u001b[39;49mnum_proc,\n\u001b[1;32m   1284\u001b[0m         storage_options\u001b[39m=\u001b[39;49mstorage_options,\n\u001b[1;32m   1285\u001b[0m     )\n",
      "File \u001b[0;32m~/Documents/GitHub/stt-whisper/.env/lib/python3.10/site-packages/datasets/arrow_dataset.py:1533\u001b[0m, in \u001b[0;36mDataset.save_to_disk\u001b[0;34m(self, dataset_path, fs, max_shard_size, num_shards, num_proc, storage_options)\u001b[0m\n\u001b[1;32m   1531\u001b[0m \u001b[39mwith\u001b[39;00m pbar:\n\u001b[1;32m   1532\u001b[0m     \u001b[39mfor\u001b[39;00m kwargs \u001b[39min\u001b[39;00m kwargs_per_job:\n\u001b[0;32m-> 1533\u001b[0m         \u001b[39mfor\u001b[39;00m job_id, done, content \u001b[39min\u001b[39;00m Dataset\u001b[39m.\u001b[39m_save_to_disk_single(\u001b[39m*\u001b[39m\u001b[39m*\u001b[39mkwargs):\n\u001b[1;32m   1534\u001b[0m             \u001b[39mif\u001b[39;00m done:\n\u001b[1;32m   1535\u001b[0m                 shards_done \u001b[39m+\u001b[39m\u001b[39m=\u001b[39m \u001b[39m1\u001b[39m\n",
      "File \u001b[0;32m~/Documents/GitHub/stt-whisper/.env/lib/python3.10/site-packages/datasets/arrow_dataset.py:1572\u001b[0m, in \u001b[0;36mDataset._save_to_disk_single\u001b[0;34m(job_id, shard, fpath, storage_options)\u001b[0m\n\u001b[1;32m   1570\u001b[0m \u001b[39mfinally\u001b[39;00m:\n\u001b[1;32m   1571\u001b[0m     \u001b[39myield\u001b[39;00m job_id, \u001b[39mFalse\u001b[39;00m, num_examples_progress_update\n\u001b[0;32m-> 1572\u001b[0m     num_examples, num_bytes \u001b[39m=\u001b[39m writer\u001b[39m.\u001b[39;49mfinalize()\n\u001b[1;32m   1573\u001b[0m     writer\u001b[39m.\u001b[39mclose()\n\u001b[1;32m   1575\u001b[0m \u001b[39myield\u001b[39;00m job_id, \u001b[39mTrue\u001b[39;00m, (num_examples, num_bytes)\n",
      "File \u001b[0;32m~/Documents/GitHub/stt-whisper/.env/lib/python3.10/site-packages/datasets/arrow_writer.py:594\u001b[0m, in \u001b[0;36mArrowWriter.finalize\u001b[0;34m(self, close_stream)\u001b[0m\n\u001b[1;32m    592\u001b[0m     \u001b[39mself\u001b[39m\u001b[39m.\u001b[39mpa_writer \u001b[39m=\u001b[39m \u001b[39mNone\u001b[39;00m\n\u001b[1;32m    593\u001b[0m     \u001b[39mif\u001b[39;00m close_stream:\n\u001b[0;32m--> 594\u001b[0m         \u001b[39mself\u001b[39;49m\u001b[39m.\u001b[39;49mstream\u001b[39m.\u001b[39;49mclose()\n\u001b[1;32m    595\u001b[0m \u001b[39melse\u001b[39;00m:\n\u001b[1;32m    596\u001b[0m     \u001b[39mif\u001b[39;00m close_stream:\n",
      "File \u001b[0;32m~/Documents/GitHub/stt-whisper/.env/lib/python3.10/site-packages/fsspec/implementations/local.py:400\u001b[0m, in \u001b[0;36mLocalFileOpener.close\u001b[0;34m(self)\u001b[0m\n\u001b[1;32m    399\u001b[0m \u001b[39mdef\u001b[39;00m \u001b[39mclose\u001b[39m(\u001b[39mself\u001b[39m):\n\u001b[0;32m--> 400\u001b[0m     \u001b[39mreturn\u001b[39;00m \u001b[39mself\u001b[39;49m\u001b[39m.\u001b[39;49mf\u001b[39m.\u001b[39;49mclose()\n",
      "\u001b[0;31mOSError\u001b[0m: [Errno 28] No space left on device"
     ]
    }
   ],
   "source": [
    "common_voice.save_to_disk('/media/monlamai/SSD/whisper_small_r3_Dec7_prepare_dataset_filtered')"
   ]
  },
  {
   "cell_type": "code",
   "execution_count": null,
   "metadata": {},
   "outputs": [],
   "source": []
  }
 ],
 "metadata": {
  "kernelspec": {
   "display_name": ".env",
   "language": "python",
   "name": "python3"
  },
  "language_info": {
   "codemirror_mode": {
    "name": "ipython",
    "version": 3
   },
   "file_extension": ".py",
   "mimetype": "text/x-python",
   "name": "python",
   "nbconvert_exporter": "python",
   "pygments_lexer": "ipython3",
   "version": "3.10.12"
  }
 },
 "nbformat": 4,
 "nbformat_minor": 2
}
