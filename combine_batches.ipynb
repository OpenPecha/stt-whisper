{
 "cells": [
  {
   "cell_type": "code",
   "execution_count": 1,
   "metadata": {},
   "outputs": [],
   "source": [
    "from datasets import load_from_disk, concatenate_datasets\n",
    "\n",
    "train_batch_0_0 = load_from_disk('/media/monlamai/HD_volume_1/prepare_dataset_train_batch_0.0')\n",
    "train_batch_0_1 = load_from_disk('/media/monlamai/HD_volume_1/prepare_dataset_train_batch_0.1')\n",
    "\n",
    "train_batch_1 =   load_from_disk('/media/monlamai/HD_volume_1/prepare_dataset_train_batch_1')\n",
    "train_batch_2 =   load_from_disk('/media/monlamai/HD_volume_1/prepare_dataset_train_batch_2')\n",
    "train_batch_3 =   load_from_disk('/media/monlamai/HD_volume_1/prepare_dataset_train_batch_3')\n",
    "\n",
    "train_aug_0_0 =   load_from_disk('/media/monlamai/HD_volume_1/prepare_dataset_train_aug_0.0')\n",
    "train_aug_0_1 =   load_from_disk('/media/monlamai/HD_volume_1/prepare_dataset_train_aug_0.1')\n",
    "\n",
    "concatinated_train = concatenate_datasets([train_batch_0_0, train_batch_0_1, train_batch_1, train_batch_2, train_batch_3, train_aug_0_0, train_aug_0_1])"
   ]
  },
  {
   "cell_type": "code",
   "execution_count": 2,
   "metadata": {},
   "outputs": [],
   "source": [
    "concatinated_test     = load_from_disk('/media/monlamai/HD_volume_1/prepare_dataset_test')\n",
    "concatinated_test_aug = load_from_disk('/media/monlamai/HD_volume_1/prepare_dataset_test_aug')\n",
    "\n",
    "concatinated_test = concatenate_datasets([concatinated_test, concatinated_test_aug])"
   ]
  },
  {
   "cell_type": "code",
   "execution_count": 3,
   "metadata": {},
   "outputs": [
    {
     "data": {
      "application/vnd.jupyter.widget-view+json": {
       "model_id": "dea307c70ed54370ab3d31af538b492b",
       "version_major": 2,
       "version_minor": 0
      },
      "text/plain": [
       "Saving the dataset (0/1389 shards):   0%|          | 0/722830 [00:00<?, ? examples/s]"
      ]
     },
     "metadata": {},
     "output_type": "display_data"
    },
    {
     "data": {
      "application/vnd.jupyter.widget-view+json": {
       "model_id": "790b37a1012c4be694c6dab441ab65ca",
       "version_major": 2,
       "version_minor": 0
      },
      "text/plain": [
       "Saving the dataset (0/78 shards):   0%|          | 0/40153 [00:00<?, ? examples/s]"
      ]
     },
     "metadata": {},
     "output_type": "display_data"
    }
   ],
   "source": [
    "from datasets import DatasetDict\n",
    "common_voice = DatasetDict()\n",
    "\n",
    "common_voice[\"train\"] = concatinated_train\n",
    "common_voice[\"test\"]  = concatinated_test\n",
    "\n",
    "common_voice.save_to_disk('/media/monlamai/SSD/whisper_small_r3_Dec7_prepare_dataset')"
   ]
  },
  {
   "cell_type": "code",
   "execution_count": null,
   "metadata": {},
   "outputs": [],
   "source": []
  }
 ],
 "metadata": {
  "kernelspec": {
   "display_name": ".env",
   "language": "python",
   "name": "python3"
  },
  "language_info": {
   "codemirror_mode": {
    "name": "ipython",
    "version": 3
   },
   "file_extension": ".py",
   "mimetype": "text/x-python",
   "name": "python",
   "nbconvert_exporter": "python",
   "pygments_lexer": "ipython3",
   "version": "3.10.12"
  }
 },
 "nbformat": 4,
 "nbformat_minor": 2
}
